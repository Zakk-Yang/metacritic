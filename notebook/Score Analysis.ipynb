{
 "cells": [
  {
   "cell_type": "markdown",
   "metadata": {},
   "source": [
    "# Getting Started"
   ]
  },
  {
   "cell_type": "code",
   "execution_count": null,
   "metadata": {},
   "outputs": [],
   "source": [
    "import pandas as pd\n",
    "import numpy as np\n",
    "df = pd.read_csv('metacri_reviews_scores.csv') "
   ]
  },
  {
   "cell_type": "code",
   "execution_count": null,
   "metadata": {},
   "outputs": [],
   "source": [
    "df.dtypes"
   ]
  },
  {
   "cell_type": "code",
   "execution_count": null,
   "metadata": {},
   "outputs": [],
   "source": [
    "df.shape\n",
    "# df[['genre','movie_title']] = df[['genre','movie_title']].astype(str)"
   ]
  },
  {
   "cell_type": "code",
   "execution_count": null,
   "metadata": {},
   "outputs": [],
   "source": [
    "## user score cleaning \n",
    "tbr = ['tbd']\n",
    "df['userscore'] = df['userscore'].apply(lambda x: np.nan if x in tbr else x)\n",
    "df = df.dropna(axis=0, how='any')\n",
    "df['userscore'] = df['userscore'].astype(float)*10\n"
   ]
  },
  {
   "cell_type": "markdown",
   "metadata": {},
   "source": [
    "# User vs Critic Summary"
   ]
  },
  {
   "cell_type": "code",
   "execution_count": null,
   "metadata": {},
   "outputs": [],
   "source": [
    "df[['userscore','metascore']].mean()"
   ]
  },
  {
   "cell_type": "code",
   "execution_count": null,
   "metadata": {},
   "outputs": [],
   "source": [
    "df[['userscore','metascore']].std()"
   ]
  },
  {
   "cell_type": "code",
   "execution_count": null,
   "metadata": {},
   "outputs": [],
   "source": [
    "df['comparison'] = df['metascore'] > df['userscore']\n",
    "df['difference'] = df['metascore'] - df['userscore']\n",
    "print(sum(df['comparison'])/df.shape[0])\n",
    "df.sort_values('difference',ascending=False)"
   ]
  },
  {
   "cell_type": "code",
   "execution_count": null,
   "metadata": {},
   "outputs": [],
   "source": [
    "##top 30 genre indicator \n",
    "df[['genre','movie_title']] = df[['genre','movie_title']].astype(str)"
   ]
  },
  {
   "cell_type": "code",
   "execution_count": null,
   "metadata": {},
   "outputs": [],
   "source": [
    "df.sample(10)"
   ]
  },
  {
   "cell_type": "code",
   "execution_count": null,
   "metadata": {},
   "outputs": [],
   "source": [
    "score_df = df[['metascore', 'userscore']]\n",
    "score_df.plot.scatter('metascore', 'userscore')"
   ]
  },
  {
   "cell_type": "markdown",
   "metadata": {},
   "source": [
    "# User vs Critic Genre Preference"
   ]
  },
  {
   "cell_type": "code",
   "execution_count": null,
   "metadata": {},
   "outputs": [],
   "source": [
    "df_score = df"
   ]
  },
  {
   "cell_type": "code",
   "execution_count": null,
   "metadata": {},
   "outputs": [],
   "source": [
    "all_genres = set()\n",
    "for s in df_score['genre']:\n",
    "    s = s.split(',')\n",
    "    all_genres = all_genres.union(s)"
   ]
  },
  {
   "cell_type": "code",
   "execution_count": null,
   "metadata": {},
   "outputs": [],
   "source": [
    "def genreFilter(row, genre):\n",
    "    genres = set(row['genre'].split(','))\n",
    "    # print(genres)\n",
    "    if genre in genres:\n",
    "        return True\n",
    "    return False"
   ]
  },
  {
   "cell_type": "code",
   "execution_count": null,
   "metadata": {},
   "outputs": [],
   "source": [
    "all_genres"
   ]
  },
  {
   "cell_type": "code",
   "execution_count": null,
   "metadata": {},
   "outputs": [],
   "source": [
    "for genre in all_genres:\n",
    "    new_field = 'is' + genre\n",
    "    df_score[new_field] = df_score.apply(genreFilter, args = (genre, ), axis = 1)"
   ]
  },
  {
   "cell_type": "code",
   "execution_count": null,
   "metadata": {},
   "outputs": [],
   "source": [
    "df_score[df_score['isFilm-Noir']]"
   ]
  },
  {
   "cell_type": "code",
   "execution_count": null,
   "metadata": {},
   "outputs": [],
   "source": [
    "df_score.columns[-25:]"
   ]
  },
  {
   "cell_type": "code",
   "execution_count": null,
   "metadata": {},
   "outputs": [],
   "source": [
    "pd.options.display.max_columns = 999\n",
    "\n",
    "scores = []\n",
    "for genre in df_score.columns[-25:]:\n",
    "    scores.append([df_score[df_score[genre]].userscore.mean(),df_score[df_score[genre]].metascore.mean()])\n",
    "\n",
    "genre_comparison = pd.DataFrame(scores)\n",
    "genre_comparison.index = (df_score.columns[-25:])\n",
    "genre_comparison.columns=['user','meta']\n",
    "genre_comparison['difference'] = abs(genre_comparison.user - genre_comparison.meta)\n",
    "genre_comparison =genre_comparison.sort_values('difference',ascending=False)\n",
    "genre_comparison.index = [x[2:] for x in genre_comparison.index.tolist()]\n",
    "genre_comparison.user"
   ]
  },
  {
   "cell_type": "code",
   "execution_count": null,
   "metadata": {},
   "outputs": [],
   "source": [
    "import plotly.graph_objects as go\n",
    "\n",
    "months = genre_comparison.index.tolist()\n",
    "months\n",
    "\n",
    "fig = go.Figure()\n",
    "fig.add_trace(go.Bar(\n",
    "    x=months,\n",
    "    y=genre_comparison.user,\n",
    "    name='userscore',\n",
    "    marker_color='#7393BC'\n",
    "))\n",
    "fig.add_trace(go.Bar(\n",
    "    x=months,\n",
    "    y=genre_comparison.meta,\n",
    "    name='metascore',\n",
    "    marker_color='#95D845'\n",
    "))\n",
    "\n",
    "# Here we modify the tickangle of the xaxis, resulting in rotated labels.\n",
    "fig.update_layout(barmode='group', xaxis_tickangle=-80,width=1000, height=600)\n",
    "fig.show()"
   ]
  }
 ],
 "metadata": {
  "kernelspec": {
   "display_name": "Python 3",
   "language": "python",
   "name": "python3"
  },
  "language_info": {
   "codemirror_mode": {
    "name": "ipython",
    "version": 3
   },
   "file_extension": ".py",
   "mimetype": "text/x-python",
   "name": "python",
   "nbconvert_exporter": "python",
   "pygments_lexer": "ipython3",
   "version": "3.7.3"
  }
 },
 "nbformat": 4,
 "nbformat_minor": 2
}
