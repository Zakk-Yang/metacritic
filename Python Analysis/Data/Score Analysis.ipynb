{
 "cells": [
  {
   "cell_type": "markdown",
   "metadata": {},
   "source": [
    "# Getting Started"
   ]
  },
  {
   "cell_type": "code",
   "execution_count": null,
   "metadata": {},
   "outputs": [],
   "source": [
    "import pandas as pd\n",
    "import numpy as np\n",
    "df = pd.read_csv('metacri_reviews_scores.csv') "
   ]
  },
  {
   "cell_type": "code",
   "execution_count": 95,
   "metadata": {},
   "outputs": [
    {
     "data": {
      "text/plain": [
       "genre             object\n",
       "meta_mixed         int64\n",
       "meta_negative      int64\n",
       "meta_positive      int64\n",
       "metascore          int64\n",
       "movie_title       object\n",
       "release_date      object\n",
       "user_mixed        object\n",
       "user_negative     object\n",
       "user_positive     object\n",
       "userscore        float64\n",
       "comparison          bool\n",
       "difference       float64\n",
       "dtype: object"
      ]
     },
     "execution_count": 95,
     "metadata": {},
     "output_type": "execute_result"
    }
   ],
   "source": [
    "df.dtypes"
   ]
  },
  {
   "cell_type": "code",
   "execution_count": 61,
   "metadata": {},
   "outputs": [
    {
     "data": {
      "text/plain": [
       "(9121, 11)"
      ]
     },
     "execution_count": 61,
     "metadata": {},
     "output_type": "execute_result"
    }
   ],
   "source": [
    "df.shape\n",
    "# df[['genre','movie_title']] = df[['genre','movie_title']].astype(str)\n"
   ]
  },
  {
   "cell_type": "code",
   "execution_count": 4,
   "metadata": {},
   "outputs": [],
   "source": [
    "## user score cleaning \n",
    "tbr = ['tbd']\n",
    "df['userscore'] = df['userscore'].apply(lambda x: np.nan if x in tbr else x)\n",
    "df = df.dropna(axis=0, how='any')\n",
    "df['userscore'] = df['userscore'].astype(float)*10\n"
   ]
  },
  {
   "cell_type": "markdown",
   "metadata": {},
   "source": [
    "# User vs Critic Summary"
   ]
  },
  {
   "cell_type": "code",
   "execution_count": 4,
   "metadata": {},
   "outputs": [
    {
     "data": {
      "text/plain": [
       "userscore    67.684663\n",
       "metascore    58.035992\n",
       "dtype: float64"
      ]
     },
     "execution_count": 4,
     "metadata": {},
     "output_type": "execute_result"
    }
   ],
   "source": [
    "df[['userscore','metascore']].mean()"
   ]
  },
  {
   "cell_type": "code",
   "execution_count": 5,
   "metadata": {},
   "outputs": [
    {
     "data": {
      "text/plain": [
       "userscore    14.407663\n",
       "metascore    17.921912\n",
       "dtype: float64"
      ]
     },
     "execution_count": 5,
     "metadata": {},
     "output_type": "execute_result"
    }
   ],
   "source": [
    "df[['userscore','metascore']].std()"
   ]
  },
  {
   "cell_type": "code",
   "execution_count": 5,
   "metadata": {},
   "outputs": [
    {
     "name": "stdout",
     "output_type": "stream",
     "text": [
      "0.2613491234180889\n"
     ]
    },
    {
     "data": {
      "text/html": [
       "<div>\n",
       "<style scoped>\n",
       "    .dataframe tbody tr th:only-of-type {\n",
       "        vertical-align: middle;\n",
       "    }\n",
       "\n",
       "    .dataframe tbody tr th {\n",
       "        vertical-align: top;\n",
       "    }\n",
       "\n",
       "    .dataframe thead th {\n",
       "        text-align: right;\n",
       "    }\n",
       "</style>\n",
       "<table border=\"1\" class=\"dataframe\">\n",
       "  <thead>\n",
       "    <tr style=\"text-align: right;\">\n",
       "      <th></th>\n",
       "      <th>genre</th>\n",
       "      <th>meta_mixed</th>\n",
       "      <th>meta_negative</th>\n",
       "      <th>meta_positive</th>\n",
       "      <th>metascore</th>\n",
       "      <th>movie_title</th>\n",
       "      <th>release_date</th>\n",
       "      <th>user_mixed</th>\n",
       "      <th>user_negative</th>\n",
       "      <th>user_positive</th>\n",
       "      <th>userscore</th>\n",
       "      <th>comparison</th>\n",
       "      <th>difference</th>\n",
       "    </tr>\n",
       "  </thead>\n",
       "  <tbody>\n",
       "    <tr>\n",
       "      <th>511</th>\n",
       "      <td>Documentary</td>\n",
       "      <td>1</td>\n",
       "      <td>0</td>\n",
       "      <td>19</td>\n",
       "      <td>80</td>\n",
       "      <td>Knock Down the House</td>\n",
       "      <td>1-May-19</td>\n",
       "      <td>3</td>\n",
       "      <td>328</td>\n",
       "      <td>30</td>\n",
       "      <td>9.0</td>\n",
       "      <td>True</td>\n",
       "      <td>71.0</td>\n",
       "    </tr>\n",
       "    <tr>\n",
       "      <th>522</th>\n",
       "      <td>Comedy</td>\n",
       "      <td>4</td>\n",
       "      <td>0</td>\n",
       "      <td>6</td>\n",
       "      <td>64</td>\n",
       "      <td>Adam</td>\n",
       "      <td>14-Aug-19</td>\n",
       "      <td>0</td>\n",
       "      <td>4</td>\n",
       "      <td>0</td>\n",
       "      <td>0.0</td>\n",
       "      <td>True</td>\n",
       "      <td>64.0</td>\n",
       "    </tr>\n",
       "    <tr>\n",
       "      <th>534</th>\n",
       "      <td>Drama,Thriller,Crime</td>\n",
       "      <td>1</td>\n",
       "      <td>0</td>\n",
       "      <td>38</td>\n",
       "      <td>87</td>\n",
       "      <td>Maria Full of Grace</td>\n",
       "      <td>16-Jul-04</td>\n",
       "      <td>5</td>\n",
       "      <td>122</td>\n",
       "      <td>52</td>\n",
       "      <td>27.0</td>\n",
       "      <td>True</td>\n",
       "      <td>60.0</td>\n",
       "    </tr>\n",
       "    <tr>\n",
       "      <th>538</th>\n",
       "      <td>Thriller,Comedy,Romance,Crime</td>\n",
       "      <td>11</td>\n",
       "      <td>2</td>\n",
       "      <td>21</td>\n",
       "      <td>69</td>\n",
       "      <td>Nurse Betty</td>\n",
       "      <td>8-Sep-00</td>\n",
       "      <td>7</td>\n",
       "      <td>99</td>\n",
       "      <td>9</td>\n",
       "      <td>10.0</td>\n",
       "      <td>True</td>\n",
       "      <td>59.0</td>\n",
       "    </tr>\n",
       "    <tr>\n",
       "      <th>571</th>\n",
       "      <td>Drama,Thriller,Romance,Crime</td>\n",
       "      <td>8</td>\n",
       "      <td>0</td>\n",
       "      <td>18</td>\n",
       "      <td>67</td>\n",
       "      <td>Summer of Sam</td>\n",
       "      <td>2-Jul-99</td>\n",
       "      <td>1</td>\n",
       "      <td>100</td>\n",
       "      <td>15</td>\n",
       "      <td>13.0</td>\n",
       "      <td>True</td>\n",
       "      <td>54.0</td>\n",
       "    </tr>\n",
       "    <tr>\n",
       "      <th>608</th>\n",
       "      <td>Drama</td>\n",
       "      <td>10</td>\n",
       "      <td>1</td>\n",
       "      <td>20</td>\n",
       "      <td>65</td>\n",
       "      <td>Timecode</td>\n",
       "      <td>28-Apr-00</td>\n",
       "      <td>1</td>\n",
       "      <td>28</td>\n",
       "      <td>5</td>\n",
       "      <td>14.0</td>\n",
       "      <td>True</td>\n",
       "      <td>51.0</td>\n",
       "    </tr>\n",
       "    <tr>\n",
       "      <th>618</th>\n",
       "      <td>Drama,Comedy</td>\n",
       "      <td>4</td>\n",
       "      <td>0</td>\n",
       "      <td>26</td>\n",
       "      <td>81</td>\n",
       "      <td>Happiness</td>\n",
       "      <td>16-Oct-98</td>\n",
       "      <td>10</td>\n",
       "      <td>93</td>\n",
       "      <td>45</td>\n",
       "      <td>31.0</td>\n",
       "      <td>True</td>\n",
       "      <td>50.0</td>\n",
       "    </tr>\n",
       "    <tr>\n",
       "      <th>668</th>\n",
       "      <td>Drama,Comedy</td>\n",
       "      <td>3</td>\n",
       "      <td>1</td>\n",
       "      <td>14</td>\n",
       "      <td>71</td>\n",
       "      <td>Tyrel</td>\n",
       "      <td>5-Dec-18</td>\n",
       "      <td>1</td>\n",
       "      <td>3</td>\n",
       "      <td>0</td>\n",
       "      <td>23.0</td>\n",
       "      <td>True</td>\n",
       "      <td>48.0</td>\n",
       "    </tr>\n",
       "    <tr>\n",
       "      <th>648</th>\n",
       "      <td>Drama,Thriller,Horror,Romance</td>\n",
       "      <td>6</td>\n",
       "      <td>2</td>\n",
       "      <td>10</td>\n",
       "      <td>58</td>\n",
       "      <td>May</td>\n",
       "      <td>7-Feb-03</td>\n",
       "      <td>2</td>\n",
       "      <td>202</td>\n",
       "      <td>16</td>\n",
       "      <td>10.0</td>\n",
       "      <td>True</td>\n",
       "      <td>48.0</td>\n",
       "    </tr>\n",
       "    <tr>\n",
       "      <th>706</th>\n",
       "      <td>Comedy</td>\n",
       "      <td>4</td>\n",
       "      <td>0</td>\n",
       "      <td>14</td>\n",
       "      <td>70</td>\n",
       "      <td>In &amp; Out</td>\n",
       "      <td>19-Sep-97</td>\n",
       "      <td>8</td>\n",
       "      <td>48</td>\n",
       "      <td>14</td>\n",
       "      <td>24.0</td>\n",
       "      <td>True</td>\n",
       "      <td>46.0</td>\n",
       "    </tr>\n",
       "    <tr>\n",
       "      <th>708</th>\n",
       "      <td>Action,Drama,History</td>\n",
       "      <td>5</td>\n",
       "      <td>0</td>\n",
       "      <td>5</td>\n",
       "      <td>62</td>\n",
       "      <td>True Legend</td>\n",
       "      <td>13-May-11</td>\n",
       "      <td>1</td>\n",
       "      <td>31</td>\n",
       "      <td>6</td>\n",
       "      <td>16.0</td>\n",
       "      <td>True</td>\n",
       "      <td>46.0</td>\n",
       "    </tr>\n",
       "    <tr>\n",
       "      <th>727</th>\n",
       "      <td>Drama,Sport,Romance</td>\n",
       "      <td>2</td>\n",
       "      <td>1</td>\n",
       "      <td>4</td>\n",
       "      <td>62</td>\n",
       "      <td>All the Right Moves</td>\n",
       "      <td>21-Oct-83</td>\n",
       "      <td>4</td>\n",
       "      <td>33</td>\n",
       "      <td>5</td>\n",
       "      <td>17.0</td>\n",
       "      <td>True</td>\n",
       "      <td>45.0</td>\n",
       "    </tr>\n",
       "    <tr>\n",
       "      <th>760</th>\n",
       "      <td>Documentary</td>\n",
       "      <td>0</td>\n",
       "      <td>0</td>\n",
       "      <td>7</td>\n",
       "      <td>78</td>\n",
       "      <td>Southern Comfort</td>\n",
       "      <td>23-Feb-01</td>\n",
       "      <td>0</td>\n",
       "      <td>3</td>\n",
       "      <td>2</td>\n",
       "      <td>34.0</td>\n",
       "      <td>True</td>\n",
       "      <td>44.0</td>\n",
       "    </tr>\n",
       "    <tr>\n",
       "      <th>778</th>\n",
       "      <td>War,Documentary</td>\n",
       "      <td>0</td>\n",
       "      <td>0</td>\n",
       "      <td>14</td>\n",
       "      <td>80</td>\n",
       "      <td>Last Men in Aleppo</td>\n",
       "      <td>3-May-17</td>\n",
       "      <td>4</td>\n",
       "      <td>17</td>\n",
       "      <td>10</td>\n",
       "      <td>37.0</td>\n",
       "      <td>True</td>\n",
       "      <td>43.0</td>\n",
       "    </tr>\n",
       "    <tr>\n",
       "      <th>773</th>\n",
       "      <td>Drama,Mystery,Thriller,Crime</td>\n",
       "      <td>9</td>\n",
       "      <td>5</td>\n",
       "      <td>12</td>\n",
       "      <td>56</td>\n",
       "      <td>The Minus Man</td>\n",
       "      <td>10-Sep-99</td>\n",
       "      <td>2</td>\n",
       "      <td>43</td>\n",
       "      <td>6</td>\n",
       "      <td>13.0</td>\n",
       "      <td>True</td>\n",
       "      <td>43.0</td>\n",
       "    </tr>\n",
       "    <tr>\n",
       "      <th>810</th>\n",
       "      <td>Biography,Documentary</td>\n",
       "      <td>2</td>\n",
       "      <td>2</td>\n",
       "      <td>8</td>\n",
       "      <td>63</td>\n",
       "      <td>Brand: A Second Coming</td>\n",
       "      <td>25-Sep-15</td>\n",
       "      <td>1</td>\n",
       "      <td>11</td>\n",
       "      <td>2</td>\n",
       "      <td>21.0</td>\n",
       "      <td>True</td>\n",
       "      <td>42.0</td>\n",
       "    </tr>\n",
       "    <tr>\n",
       "      <th>820</th>\n",
       "      <td>Comedy</td>\n",
       "      <td>3</td>\n",
       "      <td>0</td>\n",
       "      <td>48</td>\n",
       "      <td>84</td>\n",
       "      <td>Booksmart</td>\n",
       "      <td>24-May-19</td>\n",
       "      <td>28</td>\n",
       "      <td>226</td>\n",
       "      <td>193</td>\n",
       "      <td>43.0</td>\n",
       "      <td>True</td>\n",
       "      <td>41.0</td>\n",
       "    </tr>\n",
       "    <tr>\n",
       "      <th>858</th>\n",
       "      <td>Drama,Thriller,Crime</td>\n",
       "      <td>4</td>\n",
       "      <td>0</td>\n",
       "      <td>17</td>\n",
       "      <td>76</td>\n",
       "      <td>Donnie Brasco</td>\n",
       "      <td>28-Feb-97</td>\n",
       "      <td>10</td>\n",
       "      <td>159</td>\n",
       "      <td>117</td>\n",
       "      <td>36.0</td>\n",
       "      <td>True</td>\n",
       "      <td>40.0</td>\n",
       "    </tr>\n",
       "    <tr>\n",
       "      <th>867</th>\n",
       "      <td>Drama,Thriller,Crime</td>\n",
       "      <td>12</td>\n",
       "      <td>2</td>\n",
       "      <td>20</td>\n",
       "      <td>63</td>\n",
       "      <td>Boiler Room</td>\n",
       "      <td>18-Feb-00</td>\n",
       "      <td>3</td>\n",
       "      <td>69</td>\n",
       "      <td>23</td>\n",
       "      <td>23.0</td>\n",
       "      <td>True</td>\n",
       "      <td>40.0</td>\n",
       "    </tr>\n",
       "    <tr>\n",
       "      <th>927</th>\n",
       "      <td>Documentary</td>\n",
       "      <td>2</td>\n",
       "      <td>0</td>\n",
       "      <td>11</td>\n",
       "      <td>85</td>\n",
       "      <td>Rat Film</td>\n",
       "      <td>15-Sep-17</td>\n",
       "      <td>0</td>\n",
       "      <td>3</td>\n",
       "      <td>4</td>\n",
       "      <td>46.0</td>\n",
       "      <td>True</td>\n",
       "      <td>39.0</td>\n",
       "    </tr>\n",
       "    <tr>\n",
       "      <th>910</th>\n",
       "      <td>Sci-Fi,Drama</td>\n",
       "      <td>0</td>\n",
       "      <td>0</td>\n",
       "      <td>13</td>\n",
       "      <td>90</td>\n",
       "      <td>Hard to Be a God</td>\n",
       "      <td>30-Jan-15</td>\n",
       "      <td>6</td>\n",
       "      <td>14</td>\n",
       "      <td>16</td>\n",
       "      <td>51.0</td>\n",
       "      <td>True</td>\n",
       "      <td>39.0</td>\n",
       "    </tr>\n",
       "    <tr>\n",
       "      <th>899</th>\n",
       "      <td>Drama,Comedy</td>\n",
       "      <td>2</td>\n",
       "      <td>0</td>\n",
       "      <td>6</td>\n",
       "      <td>75</td>\n",
       "      <td>Risky Business</td>\n",
       "      <td>5-Aug-83</td>\n",
       "      <td>14</td>\n",
       "      <td>71</td>\n",
       "      <td>44</td>\n",
       "      <td>36.0</td>\n",
       "      <td>True</td>\n",
       "      <td>39.0</td>\n",
       "    </tr>\n",
       "    <tr>\n",
       "      <th>895</th>\n",
       "      <td>Documentary</td>\n",
       "      <td>0</td>\n",
       "      <td>0</td>\n",
       "      <td>36</td>\n",
       "      <td>95</td>\n",
       "      <td>I Am Not Your Negro</td>\n",
       "      <td>9-Dec-16</td>\n",
       "      <td>9</td>\n",
       "      <td>56</td>\n",
       "      <td>81</td>\n",
       "      <td>56.0</td>\n",
       "      <td>True</td>\n",
       "      <td>39.0</td>\n",
       "    </tr>\n",
       "    <tr>\n",
       "      <th>888</th>\n",
       "      <td>Drama</td>\n",
       "      <td>3</td>\n",
       "      <td>0</td>\n",
       "      <td>25</td>\n",
       "      <td>85</td>\n",
       "      <td>Boogie Nights</td>\n",
       "      <td>10-Oct-97</td>\n",
       "      <td>18</td>\n",
       "      <td>239</td>\n",
       "      <td>247</td>\n",
       "      <td>46.0</td>\n",
       "      <td>True</td>\n",
       "      <td>39.0</td>\n",
       "    </tr>\n",
       "    <tr>\n",
       "      <th>937</th>\n",
       "      <td>Action,Thriller,Crime</td>\n",
       "      <td>5</td>\n",
       "      <td>3</td>\n",
       "      <td>13</td>\n",
       "      <td>60</td>\n",
       "      <td>Ransom</td>\n",
       "      <td>8-Nov-96</td>\n",
       "      <td>20</td>\n",
       "      <td>154</td>\n",
       "      <td>43</td>\n",
       "      <td>22.0</td>\n",
       "      <td>True</td>\n",
       "      <td>38.0</td>\n",
       "    </tr>\n",
       "    <tr>\n",
       "      <th>975</th>\n",
       "      <td>Drama,Comedy</td>\n",
       "      <td>2</td>\n",
       "      <td>0</td>\n",
       "      <td>16</td>\n",
       "      <td>76</td>\n",
       "      <td>Chevalier</td>\n",
       "      <td>27-May-16</td>\n",
       "      <td>0</td>\n",
       "      <td>2</td>\n",
       "      <td>2</td>\n",
       "      <td>38.0</td>\n",
       "      <td>True</td>\n",
       "      <td>38.0</td>\n",
       "    </tr>\n",
       "    <tr>\n",
       "      <th>1007</th>\n",
       "      <td>Drama</td>\n",
       "      <td>0</td>\n",
       "      <td>0</td>\n",
       "      <td>7</td>\n",
       "      <td>90</td>\n",
       "      <td>Paths of the Soul</td>\n",
       "      <td>13-May-16</td>\n",
       "      <td>3</td>\n",
       "      <td>6</td>\n",
       "      <td>7</td>\n",
       "      <td>53.0</td>\n",
       "      <td>True</td>\n",
       "      <td>37.0</td>\n",
       "    </tr>\n",
       "    <tr>\n",
       "      <th>1008</th>\n",
       "      <td>Documentary</td>\n",
       "      <td>0</td>\n",
       "      <td>0</td>\n",
       "      <td>15</td>\n",
       "      <td>86</td>\n",
       "      <td>Manakamana</td>\n",
       "      <td>18-Apr-14</td>\n",
       "      <td>2</td>\n",
       "      <td>6</td>\n",
       "      <td>6</td>\n",
       "      <td>49.0</td>\n",
       "      <td>True</td>\n",
       "      <td>37.0</td>\n",
       "    </tr>\n",
       "    <tr>\n",
       "      <th>1011</th>\n",
       "      <td>Drama</td>\n",
       "      <td>0</td>\n",
       "      <td>1</td>\n",
       "      <td>12</td>\n",
       "      <td>85</td>\n",
       "      <td>The Intruder</td>\n",
       "      <td>23-Dec-05</td>\n",
       "      <td>2</td>\n",
       "      <td>5</td>\n",
       "      <td>5</td>\n",
       "      <td>48.0</td>\n",
       "      <td>True</td>\n",
       "      <td>37.0</td>\n",
       "    </tr>\n",
       "    <tr>\n",
       "      <th>1145</th>\n",
       "      <td>Western,Documentary</td>\n",
       "      <td>0</td>\n",
       "      <td>0</td>\n",
       "      <td>22</td>\n",
       "      <td>87</td>\n",
       "      <td>Bisbee '17</td>\n",
       "      <td>5-Sep-18</td>\n",
       "      <td>0</td>\n",
       "      <td>2</td>\n",
       "      <td>3</td>\n",
       "      <td>52.0</td>\n",
       "      <td>True</td>\n",
       "      <td>35.0</td>\n",
       "    </tr>\n",
       "    <tr>\n",
       "      <th>...</th>\n",
       "      <td>...</td>\n",
       "      <td>...</td>\n",
       "      <td>...</td>\n",
       "      <td>...</td>\n",
       "      <td>...</td>\n",
       "      <td>...</td>\n",
       "      <td>...</td>\n",
       "      <td>...</td>\n",
       "      <td>...</td>\n",
       "      <td>...</td>\n",
       "      <td>...</td>\n",
       "      <td>...</td>\n",
       "      <td>...</td>\n",
       "    </tr>\n",
       "    <tr>\n",
       "      <th>549</th>\n",
       "      <td>Adventure,Drama,Romance,War</td>\n",
       "      <td>4</td>\n",
       "      <td>10</td>\n",
       "      <td>0</td>\n",
       "      <td>26</td>\n",
       "      <td>Pavilion of Women</td>\n",
       "      <td>4-May-01</td>\n",
       "      <td>1</td>\n",
       "      <td>0</td>\n",
       "      <td>6</td>\n",
       "      <td>84.0</td>\n",
       "      <td>False</td>\n",
       "      <td>-58.0</td>\n",
       "    </tr>\n",
       "    <tr>\n",
       "      <th>540</th>\n",
       "      <td>Comedy</td>\n",
       "      <td>6</td>\n",
       "      <td>15</td>\n",
       "      <td>2</td>\n",
       "      <td>24</td>\n",
       "      <td>The New Guy</td>\n",
       "      <td>10-May-02</td>\n",
       "      <td>7</td>\n",
       "      <td>7</td>\n",
       "      <td>59</td>\n",
       "      <td>83.0</td>\n",
       "      <td>False</td>\n",
       "      <td>-59.0</td>\n",
       "    </tr>\n",
       "    <tr>\n",
       "      <th>539</th>\n",
       "      <td>Comedy</td>\n",
       "      <td>3</td>\n",
       "      <td>7</td>\n",
       "      <td>0</td>\n",
       "      <td>20</td>\n",
       "      <td>Vegas Vacation</td>\n",
       "      <td>14-Feb-97</td>\n",
       "      <td>15</td>\n",
       "      <td>10</td>\n",
       "      <td>57</td>\n",
       "      <td>79.0</td>\n",
       "      <td>False</td>\n",
       "      <td>-59.0</td>\n",
       "    </tr>\n",
       "    <tr>\n",
       "      <th>537</th>\n",
       "      <td>Thriller,Fantasy,Horror,Comedy</td>\n",
       "      <td>8</td>\n",
       "      <td>12</td>\n",
       "      <td>1</td>\n",
       "      <td>31</td>\n",
       "      <td>Cursed</td>\n",
       "      <td>25-Feb-05</td>\n",
       "      <td>11</td>\n",
       "      <td>12</td>\n",
       "      <td>209</td>\n",
       "      <td>90.0</td>\n",
       "      <td>False</td>\n",
       "      <td>-59.0</td>\n",
       "    </tr>\n",
       "    <tr>\n",
       "      <th>536</th>\n",
       "      <td>Drama</td>\n",
       "      <td>1</td>\n",
       "      <td>19</td>\n",
       "      <td>0</td>\n",
       "      <td>16</td>\n",
       "      <td>The Last Face</td>\n",
       "      <td>28-Jul-17</td>\n",
       "      <td>1</td>\n",
       "      <td>4</td>\n",
       "      <td>13</td>\n",
       "      <td>76.0</td>\n",
       "      <td>False</td>\n",
       "      <td>-60.0</td>\n",
       "    </tr>\n",
       "    <tr>\n",
       "      <th>535</th>\n",
       "      <td>Action,Thriller,Crime</td>\n",
       "      <td>3</td>\n",
       "      <td>20</td>\n",
       "      <td>0</td>\n",
       "      <td>23</td>\n",
       "      <td>Half Past Dead</td>\n",
       "      <td>15-Nov-02</td>\n",
       "      <td>6</td>\n",
       "      <td>5</td>\n",
       "      <td>37</td>\n",
       "      <td>83.0</td>\n",
       "      <td>False</td>\n",
       "      <td>-60.0</td>\n",
       "    </tr>\n",
       "    <tr>\n",
       "      <th>532</th>\n",
       "      <td>Drama,Thriller,Horror</td>\n",
       "      <td>7</td>\n",
       "      <td>10</td>\n",
       "      <td>2</td>\n",
       "      <td>26</td>\n",
       "      <td>Phantoms</td>\n",
       "      <td>23-Jan-98</td>\n",
       "      <td>3</td>\n",
       "      <td>6</td>\n",
       "      <td>110</td>\n",
       "      <td>87.0</td>\n",
       "      <td>False</td>\n",
       "      <td>-61.0</td>\n",
       "    </tr>\n",
       "    <tr>\n",
       "      <th>531</th>\n",
       "      <td>Adventure,Mystery,Comedy</td>\n",
       "      <td>11</td>\n",
       "      <td>15</td>\n",
       "      <td>1</td>\n",
       "      <td>29</td>\n",
       "      <td>Without a Paddle</td>\n",
       "      <td>20-Aug-04</td>\n",
       "      <td>12</td>\n",
       "      <td>8</td>\n",
       "      <td>130</td>\n",
       "      <td>90.0</td>\n",
       "      <td>False</td>\n",
       "      <td>-61.0</td>\n",
       "    </tr>\n",
       "    <tr>\n",
       "      <th>533</th>\n",
       "      <td>Comedy</td>\n",
       "      <td>0</td>\n",
       "      <td>7</td>\n",
       "      <td>1</td>\n",
       "      <td>14</td>\n",
       "      <td>What Love Is</td>\n",
       "      <td>23-Mar-07</td>\n",
       "      <td>0</td>\n",
       "      <td>5</td>\n",
       "      <td>14</td>\n",
       "      <td>75.0</td>\n",
       "      <td>False</td>\n",
       "      <td>-61.0</td>\n",
       "    </tr>\n",
       "    <tr>\n",
       "      <th>530</th>\n",
       "      <td>Drama,Comedy</td>\n",
       "      <td>2</td>\n",
       "      <td>5</td>\n",
       "      <td>0</td>\n",
       "      <td>24</td>\n",
       "      <td>Tales of Erotica</td>\n",
       "      <td>21-Feb-03</td>\n",
       "      <td>0</td>\n",
       "      <td>1</td>\n",
       "      <td>8</td>\n",
       "      <td>86.0</td>\n",
       "      <td>False</td>\n",
       "      <td>-62.0</td>\n",
       "    </tr>\n",
       "    <tr>\n",
       "      <th>529</th>\n",
       "      <td>Thriller,Horror</td>\n",
       "      <td>7</td>\n",
       "      <td>19</td>\n",
       "      <td>0</td>\n",
       "      <td>23</td>\n",
       "      <td>Bats</td>\n",
       "      <td>22-Oct-99</td>\n",
       "      <td>3</td>\n",
       "      <td>3</td>\n",
       "      <td>29</td>\n",
       "      <td>85.0</td>\n",
       "      <td>False</td>\n",
       "      <td>-62.0</td>\n",
       "    </tr>\n",
       "    <tr>\n",
       "      <th>528</th>\n",
       "      <td>Comedy,Crime</td>\n",
       "      <td>3</td>\n",
       "      <td>11</td>\n",
       "      <td>0</td>\n",
       "      <td>16</td>\n",
       "      <td>Half Baked</td>\n",
       "      <td>16-Jan-98</td>\n",
       "      <td>10</td>\n",
       "      <td>9</td>\n",
       "      <td>61</td>\n",
       "      <td>78.0</td>\n",
       "      <td>False</td>\n",
       "      <td>-62.0</td>\n",
       "    </tr>\n",
       "    <tr>\n",
       "      <th>527</th>\n",
       "      <td>Thriller,Horror</td>\n",
       "      <td>5</td>\n",
       "      <td>6</td>\n",
       "      <td>0</td>\n",
       "      <td>24</td>\n",
       "      <td>Sorority Row</td>\n",
       "      <td>11-Sep-09</td>\n",
       "      <td>23</td>\n",
       "      <td>23</td>\n",
       "      <td>205</td>\n",
       "      <td>86.0</td>\n",
       "      <td>False</td>\n",
       "      <td>-62.0</td>\n",
       "    </tr>\n",
       "    <tr>\n",
       "      <th>526</th>\n",
       "      <td>Action,Adventure,Drama,Fantasy</td>\n",
       "      <td>1</td>\n",
       "      <td>10</td>\n",
       "      <td>0</td>\n",
       "      <td>15</td>\n",
       "      <td>In the Name of the King: A Dungeon Siege Tale</td>\n",
       "      <td>11-Jan-08</td>\n",
       "      <td>24</td>\n",
       "      <td>111</td>\n",
       "      <td>392</td>\n",
       "      <td>77.0</td>\n",
       "      <td>False</td>\n",
       "      <td>-62.0</td>\n",
       "    </tr>\n",
       "    <tr>\n",
       "      <th>525</th>\n",
       "      <td>Action,Thriller,Comedy,Crime</td>\n",
       "      <td>4</td>\n",
       "      <td>15</td>\n",
       "      <td>3</td>\n",
       "      <td>25</td>\n",
       "      <td>Double Take</td>\n",
       "      <td>12-Jan-01</td>\n",
       "      <td>1</td>\n",
       "      <td>3</td>\n",
       "      <td>28</td>\n",
       "      <td>88.0</td>\n",
       "      <td>False</td>\n",
       "      <td>-63.0</td>\n",
       "    </tr>\n",
       "    <tr>\n",
       "      <th>524</th>\n",
       "      <td>Drama,Romance</td>\n",
       "      <td>5</td>\n",
       "      <td>17</td>\n",
       "      <td>2</td>\n",
       "      <td>25</td>\n",
       "      <td>Here on Earth</td>\n",
       "      <td>24-Mar-00</td>\n",
       "      <td>2</td>\n",
       "      <td>3</td>\n",
       "      <td>27</td>\n",
       "      <td>88.0</td>\n",
       "      <td>False</td>\n",
       "      <td>-63.0</td>\n",
       "    </tr>\n",
       "    <tr>\n",
       "      <th>523</th>\n",
       "      <td>Action,Horror,Romance</td>\n",
       "      <td>7</td>\n",
       "      <td>7</td>\n",
       "      <td>0</td>\n",
       "      <td>26</td>\n",
       "      <td>Dracula 2000</td>\n",
       "      <td>22-Dec-00</td>\n",
       "      <td>9</td>\n",
       "      <td>10</td>\n",
       "      <td>182</td>\n",
       "      <td>89.0</td>\n",
       "      <td>False</td>\n",
       "      <td>-63.0</td>\n",
       "    </tr>\n",
       "    <tr>\n",
       "      <th>521</th>\n",
       "      <td>Action,Thriller</td>\n",
       "      <td>5</td>\n",
       "      <td>15</td>\n",
       "      <td>1</td>\n",
       "      <td>16</td>\n",
       "      <td>The Mod Squad</td>\n",
       "      <td>26-Mar-99</td>\n",
       "      <td>3</td>\n",
       "      <td>14</td>\n",
       "      <td>58</td>\n",
       "      <td>80.0</td>\n",
       "      <td>False</td>\n",
       "      <td>-64.0</td>\n",
       "    </tr>\n",
       "    <tr>\n",
       "      <th>520</th>\n",
       "      <td>Sport,Comedy</td>\n",
       "      <td>6</td>\n",
       "      <td>18</td>\n",
       "      <td>2</td>\n",
       "      <td>23</td>\n",
       "      <td>Ready to Rumble</td>\n",
       "      <td>7-Apr-00</td>\n",
       "      <td>3</td>\n",
       "      <td>9</td>\n",
       "      <td>70</td>\n",
       "      <td>87.0</td>\n",
       "      <td>False</td>\n",
       "      <td>-64.0</td>\n",
       "    </tr>\n",
       "    <tr>\n",
       "      <th>519</th>\n",
       "      <td>Drama,War</td>\n",
       "      <td>4</td>\n",
       "      <td>9</td>\n",
       "      <td>0</td>\n",
       "      <td>26</td>\n",
       "      <td>The Ottoman Lieutenant</td>\n",
       "      <td>10-Mar-17</td>\n",
       "      <td>5</td>\n",
       "      <td>16</td>\n",
       "      <td>192</td>\n",
       "      <td>91.0</td>\n",
       "      <td>False</td>\n",
       "      <td>-65.0</td>\n",
       "    </tr>\n",
       "    <tr>\n",
       "      <th>518</th>\n",
       "      <td>Comedy,Romance</td>\n",
       "      <td>6</td>\n",
       "      <td>22</td>\n",
       "      <td>1</td>\n",
       "      <td>19</td>\n",
       "      <td>Surviving Christmas</td>\n",
       "      <td>22-Oct-04</td>\n",
       "      <td>3</td>\n",
       "      <td>5</td>\n",
       "      <td>37</td>\n",
       "      <td>85.0</td>\n",
       "      <td>False</td>\n",
       "      <td>-66.0</td>\n",
       "    </tr>\n",
       "    <tr>\n",
       "      <th>517</th>\n",
       "      <td>Comedy,Crime</td>\n",
       "      <td>4</td>\n",
       "      <td>15</td>\n",
       "      <td>2</td>\n",
       "      <td>22</td>\n",
       "      <td>Jawbreaker</td>\n",
       "      <td>19-Feb-99</td>\n",
       "      <td>3</td>\n",
       "      <td>25</td>\n",
       "      <td>316</td>\n",
       "      <td>89.0</td>\n",
       "      <td>False</td>\n",
       "      <td>-67.0</td>\n",
       "    </tr>\n",
       "    <tr>\n",
       "      <th>516</th>\n",
       "      <td>Drama,Comedy,Romance,Crime</td>\n",
       "      <td>3</td>\n",
       "      <td>11</td>\n",
       "      <td>0</td>\n",
       "      <td>16</td>\n",
       "      <td>Harlem Nights</td>\n",
       "      <td>17-Nov-89</td>\n",
       "      <td>3</td>\n",
       "      <td>7</td>\n",
       "      <td>49</td>\n",
       "      <td>84.0</td>\n",
       "      <td>False</td>\n",
       "      <td>-68.0</td>\n",
       "    </tr>\n",
       "    <tr>\n",
       "      <th>515</th>\n",
       "      <td>Action,Adventure,Sci-Fi,Thriller,Fantasy</td>\n",
       "      <td>2</td>\n",
       "      <td>10</td>\n",
       "      <td>0</td>\n",
       "      <td>11</td>\n",
       "      <td>Mortal Kombat: Annihilation</td>\n",
       "      <td>21-Nov-97</td>\n",
       "      <td>35</td>\n",
       "      <td>81</td>\n",
       "      <td>334</td>\n",
       "      <td>79.0</td>\n",
       "      <td>False</td>\n",
       "      <td>-68.0</td>\n",
       "    </tr>\n",
       "    <tr>\n",
       "      <th>514</th>\n",
       "      <td>Action,Drama,Crime</td>\n",
       "      <td>3</td>\n",
       "      <td>18</td>\n",
       "      <td>0</td>\n",
       "      <td>16</td>\n",
       "      <td>Deuces Wild</td>\n",
       "      <td>3-May-01</td>\n",
       "      <td>3</td>\n",
       "      <td>7</td>\n",
       "      <td>48</td>\n",
       "      <td>86.0</td>\n",
       "      <td>False</td>\n",
       "      <td>-70.0</td>\n",
       "    </tr>\n",
       "    <tr>\n",
       "      <th>513</th>\n",
       "      <td>Thriller,Horror</td>\n",
       "      <td>3</td>\n",
       "      <td>13</td>\n",
       "      <td>1</td>\n",
       "      <td>18</td>\n",
       "      <td>Valentine</td>\n",
       "      <td>2-Feb-01</td>\n",
       "      <td>13</td>\n",
       "      <td>11</td>\n",
       "      <td>130</td>\n",
       "      <td>88.0</td>\n",
       "      <td>False</td>\n",
       "      <td>-70.0</td>\n",
       "    </tr>\n",
       "    <tr>\n",
       "      <th>512</th>\n",
       "      <td>Comedy,Music</td>\n",
       "      <td>2</td>\n",
       "      <td>14</td>\n",
       "      <td>1</td>\n",
       "      <td>20</td>\n",
       "      <td>Marci X</td>\n",
       "      <td>22-Aug-03</td>\n",
       "      <td>1</td>\n",
       "      <td>4</td>\n",
       "      <td>47</td>\n",
       "      <td>91.0</td>\n",
       "      <td>False</td>\n",
       "      <td>-71.0</td>\n",
       "    </tr>\n",
       "    <tr>\n",
       "      <th>510</th>\n",
       "      <td>Action,Comedy</td>\n",
       "      <td>2</td>\n",
       "      <td>11</td>\n",
       "      <td>1</td>\n",
       "      <td>14</td>\n",
       "      <td>Kung Pow: Enter the Fist</td>\n",
       "      <td>25-Jan-02</td>\n",
       "      <td>16</td>\n",
       "      <td>31</td>\n",
       "      <td>319</td>\n",
       "      <td>86.0</td>\n",
       "      <td>False</td>\n",
       "      <td>-72.0</td>\n",
       "    </tr>\n",
       "    <tr>\n",
       "      <th>509</th>\n",
       "      <td>Mystery,Thriller,Horror</td>\n",
       "      <td>1</td>\n",
       "      <td>14</td>\n",
       "      <td>1</td>\n",
       "      <td>15</td>\n",
       "      <td>Darkness</td>\n",
       "      <td>25-Dec-04</td>\n",
       "      <td>10</td>\n",
       "      <td>20</td>\n",
       "      <td>243</td>\n",
       "      <td>89.0</td>\n",
       "      <td>False</td>\n",
       "      <td>-74.0</td>\n",
       "    </tr>\n",
       "    <tr>\n",
       "      <th>508</th>\n",
       "      <td>Biography,Drama</td>\n",
       "      <td>1</td>\n",
       "      <td>6</td>\n",
       "      <td>0</td>\n",
       "      <td>10</td>\n",
       "      <td>Unplanned</td>\n",
       "      <td>29-Mar-19</td>\n",
       "      <td>1</td>\n",
       "      <td>51</td>\n",
       "      <td>687</td>\n",
       "      <td>93.0</td>\n",
       "      <td>False</td>\n",
       "      <td>-83.0</td>\n",
       "    </tr>\n",
       "  </tbody>\n",
       "</table>\n",
       "<p>8613 rows × 13 columns</p>\n",
       "</div>"
      ],
      "text/plain": [
       "                                         genre  meta_mixed  meta_negative  \\\n",
       "511                                Documentary           1              0   \n",
       "522                                     Comedy           4              0   \n",
       "534                       Drama,Thriller,Crime           1              0   \n",
       "538              Thriller,Comedy,Romance,Crime          11              2   \n",
       "571               Drama,Thriller,Romance,Crime           8              0   \n",
       "608                                      Drama          10              1   \n",
       "618                               Drama,Comedy           4              0   \n",
       "668                               Drama,Comedy           3              1   \n",
       "648              Drama,Thriller,Horror,Romance           6              2   \n",
       "706                                     Comedy           4              0   \n",
       "708                       Action,Drama,History           5              0   \n",
       "727                        Drama,Sport,Romance           2              1   \n",
       "760                                Documentary           0              0   \n",
       "778                            War,Documentary           0              0   \n",
       "773               Drama,Mystery,Thriller,Crime           9              5   \n",
       "810                      Biography,Documentary           2              2   \n",
       "820                                     Comedy           3              0   \n",
       "858                       Drama,Thriller,Crime           4              0   \n",
       "867                       Drama,Thriller,Crime          12              2   \n",
       "927                                Documentary           2              0   \n",
       "910                               Sci-Fi,Drama           0              0   \n",
       "899                               Drama,Comedy           2              0   \n",
       "895                                Documentary           0              0   \n",
       "888                                      Drama           3              0   \n",
       "937                      Action,Thriller,Crime           5              3   \n",
       "975                               Drama,Comedy           2              0   \n",
       "1007                                     Drama           0              0   \n",
       "1008                               Documentary           0              0   \n",
       "1011                                     Drama           0              1   \n",
       "1145                       Western,Documentary           0              0   \n",
       "...                                        ...         ...            ...   \n",
       "549                Adventure,Drama,Romance,War           4             10   \n",
       "540                                     Comedy           6             15   \n",
       "539                                     Comedy           3              7   \n",
       "537             Thriller,Fantasy,Horror,Comedy           8             12   \n",
       "536                                      Drama           1             19   \n",
       "535                      Action,Thriller,Crime           3             20   \n",
       "532                      Drama,Thriller,Horror           7             10   \n",
       "531                   Adventure,Mystery,Comedy          11             15   \n",
       "533                                     Comedy           0              7   \n",
       "530                               Drama,Comedy           2              5   \n",
       "529                            Thriller,Horror           7             19   \n",
       "528                               Comedy,Crime           3             11   \n",
       "527                            Thriller,Horror           5              6   \n",
       "526             Action,Adventure,Drama,Fantasy           1             10   \n",
       "525               Action,Thriller,Comedy,Crime           4             15   \n",
       "524                              Drama,Romance           5             17   \n",
       "523                      Action,Horror,Romance           7              7   \n",
       "521                            Action,Thriller           5             15   \n",
       "520                               Sport,Comedy           6             18   \n",
       "519                                  Drama,War           4              9   \n",
       "518                             Comedy,Romance           6             22   \n",
       "517                               Comedy,Crime           4             15   \n",
       "516                 Drama,Comedy,Romance,Crime           3             11   \n",
       "515   Action,Adventure,Sci-Fi,Thriller,Fantasy           2             10   \n",
       "514                         Action,Drama,Crime           3             18   \n",
       "513                            Thriller,Horror           3             13   \n",
       "512                               Comedy,Music           2             14   \n",
       "510                              Action,Comedy           2             11   \n",
       "509                    Mystery,Thriller,Horror           1             14   \n",
       "508                            Biography,Drama           1              6   \n",
       "\n",
       "      meta_positive  metascore                                    movie_title  \\\n",
       "511              19         80                           Knock Down the House   \n",
       "522               6         64                                           Adam   \n",
       "534              38         87                            Maria Full of Grace   \n",
       "538              21         69                                    Nurse Betty   \n",
       "571              18         67                                  Summer of Sam   \n",
       "608              20         65                                       Timecode   \n",
       "618              26         81                                      Happiness   \n",
       "668              14         71                                          Tyrel   \n",
       "648              10         58                                            May   \n",
       "706              14         70                                       In & Out   \n",
       "708               5         62                                    True Legend   \n",
       "727               4         62                            All the Right Moves   \n",
       "760               7         78                               Southern Comfort   \n",
       "778              14         80                             Last Men in Aleppo   \n",
       "773              12         56                                  The Minus Man   \n",
       "810               8         63                         Brand: A Second Coming   \n",
       "820              48         84                                      Booksmart   \n",
       "858              17         76                                  Donnie Brasco   \n",
       "867              20         63                                    Boiler Room   \n",
       "927              11         85                                       Rat Film   \n",
       "910              13         90                               Hard to Be a God   \n",
       "899               6         75                                 Risky Business   \n",
       "895              36         95                            I Am Not Your Negro   \n",
       "888              25         85                                  Boogie Nights   \n",
       "937              13         60                                         Ransom   \n",
       "975              16         76                                      Chevalier   \n",
       "1007              7         90                              Paths of the Soul   \n",
       "1008             15         86                                     Manakamana   \n",
       "1011             12         85                                   The Intruder   \n",
       "1145             22         87                                     Bisbee '17   \n",
       "...             ...        ...                                            ...   \n",
       "549               0         26                              Pavilion of Women   \n",
       "540               2         24                                    The New Guy   \n",
       "539               0         20                                 Vegas Vacation   \n",
       "537               1         31                                         Cursed   \n",
       "536               0         16                                  The Last Face   \n",
       "535               0         23                                 Half Past Dead   \n",
       "532               2         26                                       Phantoms   \n",
       "531               1         29                               Without a Paddle   \n",
       "533               1         14                                   What Love Is   \n",
       "530               0         24                               Tales of Erotica   \n",
       "529               0         23                                           Bats   \n",
       "528               0         16                                     Half Baked   \n",
       "527               0         24                                   Sorority Row   \n",
       "526               0         15  In the Name of the King: A Dungeon Siege Tale   \n",
       "525               3         25                                    Double Take   \n",
       "524               2         25                                  Here on Earth   \n",
       "523               0         26                                   Dracula 2000   \n",
       "521               1         16                                  The Mod Squad   \n",
       "520               2         23                                Ready to Rumble   \n",
       "519               0         26                         The Ottoman Lieutenant   \n",
       "518               1         19                            Surviving Christmas   \n",
       "517               2         22                                     Jawbreaker   \n",
       "516               0         16                                  Harlem Nights   \n",
       "515               0         11                    Mortal Kombat: Annihilation   \n",
       "514               0         16                                    Deuces Wild   \n",
       "513               1         18                                      Valentine   \n",
       "512               1         20                                        Marci X   \n",
       "510               1         14                       Kung Pow: Enter the Fist   \n",
       "509               1         15                                       Darkness   \n",
       "508               0         10                                      Unplanned   \n",
       "\n",
       "     release_date user_mixed user_negative user_positive  userscore  \\\n",
       "511      1-May-19          3           328            30        9.0   \n",
       "522     14-Aug-19          0             4             0        0.0   \n",
       "534     16-Jul-04          5           122            52       27.0   \n",
       "538      8-Sep-00          7            99             9       10.0   \n",
       "571      2-Jul-99          1           100            15       13.0   \n",
       "608     28-Apr-00          1            28             5       14.0   \n",
       "618     16-Oct-98         10            93            45       31.0   \n",
       "668      5-Dec-18          1             3             0       23.0   \n",
       "648      7-Feb-03          2           202            16       10.0   \n",
       "706     19-Sep-97          8            48            14       24.0   \n",
       "708     13-May-11          1            31             6       16.0   \n",
       "727     21-Oct-83          4            33             5       17.0   \n",
       "760     23-Feb-01          0             3             2       34.0   \n",
       "778      3-May-17          4            17            10       37.0   \n",
       "773     10-Sep-99          2            43             6       13.0   \n",
       "810     25-Sep-15          1            11             2       21.0   \n",
       "820     24-May-19         28           226           193       43.0   \n",
       "858     28-Feb-97         10           159           117       36.0   \n",
       "867     18-Feb-00          3            69            23       23.0   \n",
       "927     15-Sep-17          0             3             4       46.0   \n",
       "910     30-Jan-15          6            14            16       51.0   \n",
       "899      5-Aug-83         14            71            44       36.0   \n",
       "895      9-Dec-16          9            56            81       56.0   \n",
       "888     10-Oct-97         18           239           247       46.0   \n",
       "937      8-Nov-96         20           154            43       22.0   \n",
       "975     27-May-16          0             2             2       38.0   \n",
       "1007    13-May-16          3             6             7       53.0   \n",
       "1008    18-Apr-14          2             6             6       49.0   \n",
       "1011    23-Dec-05          2             5             5       48.0   \n",
       "1145     5-Sep-18          0             2             3       52.0   \n",
       "...           ...        ...           ...           ...        ...   \n",
       "549      4-May-01          1             0             6       84.0   \n",
       "540     10-May-02          7             7            59       83.0   \n",
       "539     14-Feb-97         15            10            57       79.0   \n",
       "537     25-Feb-05         11            12           209       90.0   \n",
       "536     28-Jul-17          1             4            13       76.0   \n",
       "535     15-Nov-02          6             5            37       83.0   \n",
       "532     23-Jan-98          3             6           110       87.0   \n",
       "531     20-Aug-04         12             8           130       90.0   \n",
       "533     23-Mar-07          0             5            14       75.0   \n",
       "530     21-Feb-03          0             1             8       86.0   \n",
       "529     22-Oct-99          3             3            29       85.0   \n",
       "528     16-Jan-98         10             9            61       78.0   \n",
       "527     11-Sep-09         23            23           205       86.0   \n",
       "526     11-Jan-08         24           111           392       77.0   \n",
       "525     12-Jan-01          1             3            28       88.0   \n",
       "524     24-Mar-00          2             3            27       88.0   \n",
       "523     22-Dec-00          9            10           182       89.0   \n",
       "521     26-Mar-99          3            14            58       80.0   \n",
       "520      7-Apr-00          3             9            70       87.0   \n",
       "519     10-Mar-17          5            16           192       91.0   \n",
       "518     22-Oct-04          3             5            37       85.0   \n",
       "517     19-Feb-99          3            25           316       89.0   \n",
       "516     17-Nov-89          3             7            49       84.0   \n",
       "515     21-Nov-97         35            81           334       79.0   \n",
       "514      3-May-01          3             7            48       86.0   \n",
       "513      2-Feb-01         13            11           130       88.0   \n",
       "512     22-Aug-03          1             4            47       91.0   \n",
       "510     25-Jan-02         16            31           319       86.0   \n",
       "509     25-Dec-04         10            20           243       89.0   \n",
       "508     29-Mar-19          1            51           687       93.0   \n",
       "\n",
       "      comparison  difference  \n",
       "511         True        71.0  \n",
       "522         True        64.0  \n",
       "534         True        60.0  \n",
       "538         True        59.0  \n",
       "571         True        54.0  \n",
       "608         True        51.0  \n",
       "618         True        50.0  \n",
       "668         True        48.0  \n",
       "648         True        48.0  \n",
       "706         True        46.0  \n",
       "708         True        46.0  \n",
       "727         True        45.0  \n",
       "760         True        44.0  \n",
       "778         True        43.0  \n",
       "773         True        43.0  \n",
       "810         True        42.0  \n",
       "820         True        41.0  \n",
       "858         True        40.0  \n",
       "867         True        40.0  \n",
       "927         True        39.0  \n",
       "910         True        39.0  \n",
       "899         True        39.0  \n",
       "895         True        39.0  \n",
       "888         True        39.0  \n",
       "937         True        38.0  \n",
       "975         True        38.0  \n",
       "1007        True        37.0  \n",
       "1008        True        37.0  \n",
       "1011        True        37.0  \n",
       "1145        True        35.0  \n",
       "...          ...         ...  \n",
       "549        False       -58.0  \n",
       "540        False       -59.0  \n",
       "539        False       -59.0  \n",
       "537        False       -59.0  \n",
       "536        False       -60.0  \n",
       "535        False       -60.0  \n",
       "532        False       -61.0  \n",
       "531        False       -61.0  \n",
       "533        False       -61.0  \n",
       "530        False       -62.0  \n",
       "529        False       -62.0  \n",
       "528        False       -62.0  \n",
       "527        False       -62.0  \n",
       "526        False       -62.0  \n",
       "525        False       -63.0  \n",
       "524        False       -63.0  \n",
       "523        False       -63.0  \n",
       "521        False       -64.0  \n",
       "520        False       -64.0  \n",
       "519        False       -65.0  \n",
       "518        False       -66.0  \n",
       "517        False       -67.0  \n",
       "516        False       -68.0  \n",
       "515        False       -68.0  \n",
       "514        False       -70.0  \n",
       "513        False       -70.0  \n",
       "512        False       -71.0  \n",
       "510        False       -72.0  \n",
       "509        False       -74.0  \n",
       "508        False       -83.0  \n",
       "\n",
       "[8613 rows x 13 columns]"
      ]
     },
     "execution_count": 5,
     "metadata": {},
     "output_type": "execute_result"
    }
   ],
   "source": [
    "df['comparison'] = df['metascore'] > df['userscore']\n",
    "df['difference'] = df['metascore'] - df['userscore']\n",
    "print(sum(df['comparison'])/df.shape[0])\n",
    "df.sort_values('difference',ascending=False)"
   ]
  },
  {
   "cell_type": "code",
   "execution_count": 93,
   "metadata": {},
   "outputs": [],
   "source": [
    "##top 30 genre indicator \n",
    "df[['genre','movie_title']] = df[['genre','movie_title']].astype(str)"
   ]
  },
  {
   "cell_type": "code",
   "execution_count": 94,
   "metadata": {},
   "outputs": [
    {
     "data": {
      "text/html": [
       "<div>\n",
       "<style scoped>\n",
       "    .dataframe tbody tr th:only-of-type {\n",
       "        vertical-align: middle;\n",
       "    }\n",
       "\n",
       "    .dataframe tbody tr th {\n",
       "        vertical-align: top;\n",
       "    }\n",
       "\n",
       "    .dataframe thead th {\n",
       "        text-align: right;\n",
       "    }\n",
       "</style>\n",
       "<table border=\"1\" class=\"dataframe\">\n",
       "  <thead>\n",
       "    <tr style=\"text-align: right;\">\n",
       "      <th></th>\n",
       "      <th>genre</th>\n",
       "      <th>meta_mixed</th>\n",
       "      <th>meta_negative</th>\n",
       "      <th>meta_positive</th>\n",
       "      <th>metascore</th>\n",
       "      <th>movie_title</th>\n",
       "      <th>release_date</th>\n",
       "      <th>user_mixed</th>\n",
       "      <th>user_negative</th>\n",
       "      <th>user_positive</th>\n",
       "      <th>userscore</th>\n",
       "      <th>comparison</th>\n",
       "      <th>difference</th>\n",
       "    </tr>\n",
       "  </thead>\n",
       "  <tbody>\n",
       "    <tr>\n",
       "      <th>5878</th>\n",
       "      <td>Biography,Drama,Thriller</td>\n",
       "      <td>4</td>\n",
       "      <td>1</td>\n",
       "      <td>9</td>\n",
       "      <td>61</td>\n",
       "      <td>The People vs. Fritz Bauer</td>\n",
       "      <td>19-Aug-16</td>\n",
       "      <td>1</td>\n",
       "      <td>0</td>\n",
       "      <td>4</td>\n",
       "      <td>70.0</td>\n",
       "      <td>False</td>\n",
       "      <td>-9.0</td>\n",
       "    </tr>\n",
       "    <tr>\n",
       "      <th>2209</th>\n",
       "      <td>Fantasy,Comedy,Romance</td>\n",
       "      <td>15</td>\n",
       "      <td>0</td>\n",
       "      <td>20</td>\n",
       "      <td>57</td>\n",
       "      <td>13 Going on 30</td>\n",
       "      <td>23-Apr-04</td>\n",
       "      <td>48</td>\n",
       "      <td>13</td>\n",
       "      <td>152</td>\n",
       "      <td>80.0</td>\n",
       "      <td>False</td>\n",
       "      <td>-23.0</td>\n",
       "    </tr>\n",
       "    <tr>\n",
       "      <th>5046</th>\n",
       "      <td>Action,Drama,Thriller</td>\n",
       "      <td>8</td>\n",
       "      <td>0</td>\n",
       "      <td>12</td>\n",
       "      <td>66</td>\n",
       "      <td>Crimson Tide</td>\n",
       "      <td>12-May-95</td>\n",
       "      <td>9</td>\n",
       "      <td>1</td>\n",
       "      <td>37</td>\n",
       "      <td>77.0</td>\n",
       "      <td>False</td>\n",
       "      <td>-11.0</td>\n",
       "    </tr>\n",
       "    <tr>\n",
       "      <th>2011</th>\n",
       "      <td>Action,Sci-Fi,Thriller</td>\n",
       "      <td>2</td>\n",
       "      <td>6</td>\n",
       "      <td>0</td>\n",
       "      <td>26</td>\n",
       "      <td>Alien Outpost</td>\n",
       "      <td>30-Jan-15</td>\n",
       "      <td>7</td>\n",
       "      <td>5</td>\n",
       "      <td>7</td>\n",
       "      <td>51.0</td>\n",
       "      <td>False</td>\n",
       "      <td>-25.0</td>\n",
       "    </tr>\n",
       "    <tr>\n",
       "      <th>3702</th>\n",
       "      <td>Drama</td>\n",
       "      <td>1</td>\n",
       "      <td>0</td>\n",
       "      <td>7</td>\n",
       "      <td>81</td>\n",
       "      <td>The Levelling</td>\n",
       "      <td>24-Mar-17</td>\n",
       "      <td>1</td>\n",
       "      <td>2</td>\n",
       "      <td>5</td>\n",
       "      <td>65.0</td>\n",
       "      <td>True</td>\n",
       "      <td>16.0</td>\n",
       "    </tr>\n",
       "    <tr>\n",
       "      <th>3558</th>\n",
       "      <td>Drama,Horror</td>\n",
       "      <td>6</td>\n",
       "      <td>17</td>\n",
       "      <td>0</td>\n",
       "      <td>25</td>\n",
       "      <td>Rings</td>\n",
       "      <td>3-Feb-17</td>\n",
       "      <td>37</td>\n",
       "      <td>47</td>\n",
       "      <td>21</td>\n",
       "      <td>41.0</td>\n",
       "      <td>False</td>\n",
       "      <td>-16.0</td>\n",
       "    </tr>\n",
       "    <tr>\n",
       "      <th>5796</th>\n",
       "      <td>Drama,Mystery,Thriller,Crime</td>\n",
       "      <td>1</td>\n",
       "      <td>1</td>\n",
       "      <td>10</td>\n",
       "      <td>68</td>\n",
       "      <td>A Vigilante</td>\n",
       "      <td>29-Mar-19</td>\n",
       "      <td>5</td>\n",
       "      <td>2</td>\n",
       "      <td>7</td>\n",
       "      <td>59.0</td>\n",
       "      <td>True</td>\n",
       "      <td>9.0</td>\n",
       "    </tr>\n",
       "    <tr>\n",
       "      <th>1020</th>\n",
       "      <td>Drama</td>\n",
       "      <td>5</td>\n",
       "      <td>1</td>\n",
       "      <td>1</td>\n",
       "      <td>36</td>\n",
       "      <td>Lotus Eaters</td>\n",
       "      <td>5-Apr-13</td>\n",
       "      <td>0</td>\n",
       "      <td>2</td>\n",
       "      <td>5</td>\n",
       "      <td>73.0</td>\n",
       "      <td>False</td>\n",
       "      <td>-37.0</td>\n",
       "    </tr>\n",
       "    <tr>\n",
       "      <th>7286</th>\n",
       "      <td>Documentary</td>\n",
       "      <td>6</td>\n",
       "      <td>0</td>\n",
       "      <td>11</td>\n",
       "      <td>71</td>\n",
       "      <td>Deep Blue</td>\n",
       "      <td>3-Jun-05</td>\n",
       "      <td>0</td>\n",
       "      <td>1</td>\n",
       "      <td>4</td>\n",
       "      <td>66.0</td>\n",
       "      <td>True</td>\n",
       "      <td>5.0</td>\n",
       "    </tr>\n",
       "    <tr>\n",
       "      <th>7598</th>\n",
       "      <td>Drama,Mystery,Thriller</td>\n",
       "      <td>10</td>\n",
       "      <td>1</td>\n",
       "      <td>13</td>\n",
       "      <td>58</td>\n",
       "      <td>Complete Unknown</td>\n",
       "      <td>26-Aug-16</td>\n",
       "      <td>5</td>\n",
       "      <td>2</td>\n",
       "      <td>6</td>\n",
       "      <td>62.0</td>\n",
       "      <td>False</td>\n",
       "      <td>-4.0</td>\n",
       "    </tr>\n",
       "  </tbody>\n",
       "</table>\n",
       "</div>"
      ],
      "text/plain": [
       "                             genre  meta_mixed  meta_negative  meta_positive  \\\n",
       "5878      Biography,Drama,Thriller           4              1              9   \n",
       "2209        Fantasy,Comedy,Romance          15              0             20   \n",
       "5046         Action,Drama,Thriller           8              0             12   \n",
       "2011        Action,Sci-Fi,Thriller           2              6              0   \n",
       "3702                         Drama           1              0              7   \n",
       "3558                  Drama,Horror           6             17              0   \n",
       "5796  Drama,Mystery,Thriller,Crime           1              1             10   \n",
       "1020                         Drama           5              1              1   \n",
       "7286                   Documentary           6              0             11   \n",
       "7598        Drama,Mystery,Thriller          10              1             13   \n",
       "\n",
       "      metascore                 movie_title release_date user_mixed  \\\n",
       "5878         61  The People vs. Fritz Bauer    19-Aug-16          1   \n",
       "2209         57              13 Going on 30    23-Apr-04         48   \n",
       "5046         66                Crimson Tide    12-May-95          9   \n",
       "2011         26               Alien Outpost    30-Jan-15          7   \n",
       "3702         81               The Levelling    24-Mar-17          1   \n",
       "3558         25                       Rings     3-Feb-17         37   \n",
       "5796         68                 A Vigilante    29-Mar-19          5   \n",
       "1020         36                Lotus Eaters     5-Apr-13          0   \n",
       "7286         71                   Deep Blue     3-Jun-05          0   \n",
       "7598         58            Complete Unknown    26-Aug-16          5   \n",
       "\n",
       "     user_negative user_positive  userscore  comparison  difference  \n",
       "5878             0             4       70.0       False        -9.0  \n",
       "2209            13           152       80.0       False       -23.0  \n",
       "5046             1            37       77.0       False       -11.0  \n",
       "2011             5             7       51.0       False       -25.0  \n",
       "3702             2             5       65.0        True        16.0  \n",
       "3558            47            21       41.0       False       -16.0  \n",
       "5796             2             7       59.0        True         9.0  \n",
       "1020             2             5       73.0       False       -37.0  \n",
       "7286             1             4       66.0        True         5.0  \n",
       "7598             2             6       62.0       False        -4.0  "
      ]
     },
     "execution_count": 94,
     "metadata": {},
     "output_type": "execute_result"
    }
   ],
   "source": [
    "df.sample(10)"
   ]
  },
  {
   "cell_type": "code",
   "execution_count": 8,
   "metadata": {},
   "outputs": [
    {
     "data": {
      "text/plain": [
       "<matplotlib.axes._subplots.AxesSubplot at 0x17399dfa390>"
      ]
     },
     "execution_count": 8,
     "metadata": {},
     "output_type": "execute_result"
    },
    {
     "data": {
      "image/png": "[encoded data removed]",
      "text/plain": [
       "<Figure size 432x288 with 1 Axes>"
      ]
     },
     "metadata": {},
     "output_type": "display_data"
    }
   ],
   "source": [
    "score_df = df[['metascore', 'userscore']]\n",
    "score_df.plot.scatter('metascore', 'userscore')"
   ]
  },
  {
   "cell_type": "markdown",
   "metadata": {},
   "source": [
    "# User vs Critic Genre Preference"
   ]
  },
  {
   "cell_type": "code",
   "execution_count": 6,
   "metadata": {},
   "outputs": [],
   "source": [
    "df_score = df"
   ]
  },
  {
   "cell_type": "code",
   "execution_count": 7,
   "metadata": {},
   "outputs": [],
   "source": [
    "all_genres = set()\n",
    "for s in df_score['genre']:\n",
    "    s = s.split(',')\n",
    "    all_genres = all_genres.union(s)"
   ]
  },
  {
   "cell_type": "code",
   "execution_count": 8,
   "metadata": {},
   "outputs": [],
   "source": [
    "def genreFilter(row, genre):\n",
    "    genres = set(row['genre'].split(','))\n",
    "    # print(genres)\n",
    "    if genre in genres:\n",
    "        return True\n",
    "    return False"
   ]
  },
  {
   "cell_type": "code",
   "execution_count": 9,
   "metadata": {},
   "outputs": [
    {
     "data": {
      "text/plain": [
       "{'Action',\n",
       " 'Adult',\n",
       " 'Adventure',\n",
       " 'Animation',\n",
       " 'Biography',\n",
       " 'Comedy',\n",
       " 'Crime',\n",
       " 'Documentary',\n",
       " 'Drama',\n",
       " 'Family',\n",
       " 'Fantasy',\n",
       " 'Film-Noir',\n",
       " 'History',\n",
       " 'Horror',\n",
       " 'Music',\n",
       " 'Musical',\n",
       " 'Mystery',\n",
       " 'News',\n",
       " 'Romance',\n",
       " 'Sci-Fi',\n",
       " 'Short',\n",
       " 'Sport',\n",
       " 'Thriller',\n",
       " 'War',\n",
       " 'Western'}"
      ]
     },
     "execution_count": 9,
     "metadata": {},
     "output_type": "execute_result"
    }
   ],
   "source": [
    "all_genres"
   ]
  },
  {
   "cell_type": "code",
   "execution_count": 10,
   "metadata": {},
   "outputs": [],
   "source": [
    "for genre in all_genres:\n",
    "    new_field = 'is' + genre\n",
    "    df_score[new_field] = df_score.apply(genreFilter, args = (genre, ), axis = 1)"
   ]
  },
  {
   "cell_type": "code",
   "execution_count": 66,
   "metadata": {},
   "outputs": [
    {
     "data": {
      "text/html": [
       "<div>\n",
       "<style scoped>\n",
       "    .dataframe tbody tr th:only-of-type {\n",
       "        vertical-align: middle;\n",
       "    }\n",
       "\n",
       "    .dataframe tbody tr th {\n",
       "        vertical-align: top;\n",
       "    }\n",
       "\n",
       "    .dataframe thead th {\n",
       "        text-align: right;\n",
       "    }\n",
       "</style>\n",
       "<table border=\"1\" class=\"dataframe\">\n",
       "  <thead>\n",
       "    <tr style=\"text-align: right;\">\n",
       "      <th></th>\n",
       "      <th>genre</th>\n",
       "      <th>meta_mixed</th>\n",
       "      <th>meta_negative</th>\n",
       "      <th>meta_positive</th>\n",
       "      <th>metascore</th>\n",
       "      <th>movie_title</th>\n",
       "      <th>release_date</th>\n",
       "      <th>user_mixed</th>\n",
       "      <th>user_negative</th>\n",
       "      <th>user_positive</th>\n",
       "      <th>userscore</th>\n",
       "      <th>comparison</th>\n",
       "      <th>difference</th>\n",
       "      <th>isComedy</th>\n",
       "      <th>isWestern</th>\n",
       "      <th>isBiography</th>\n",
       "      <th>isNews</th>\n",
       "      <th>isAdventure</th>\n",
       "      <th>isShort</th>\n",
       "      <th>isRomance</th>\n",
       "      <th>isAnimation</th>\n",
       "      <th>isFilm-Noir</th>\n",
       "      <th>isMusic</th>\n",
       "      <th>isHistory</th>\n",
       "      <th>isSport</th>\n",
       "      <th>isSci-Fi</th>\n",
       "      <th>isAdult</th>\n",
       "      <th>isCrime</th>\n",
       "      <th>isFantasy</th>\n",
       "      <th>isWar</th>\n",
       "      <th>isHorror</th>\n",
       "      <th>isDrama</th>\n",
       "      <th>isDocumentary</th>\n",
       "      <th>isMusical</th>\n",
       "      <th>isAction</th>\n",
       "      <th>isMystery</th>\n",
       "      <th>isThriller</th>\n",
       "      <th>isFamily</th>\n",
       "    </tr>\n",
       "  </thead>\n",
       "  <tbody>\n",
       "    <tr>\n",
       "      <th>2766</th>\n",
       "      <td>Drama,Thriller,Romance,Film-Noir</td>\n",
       "      <td>0</td>\n",
       "      <td>0</td>\n",
       "      <td>16</td>\n",
       "      <td>100</td>\n",
       "      <td>Notorious</td>\n",
       "      <td>6-Sep-46</td>\n",
       "      <td>2</td>\n",
       "      <td>2</td>\n",
       "      <td>30</td>\n",
       "      <td>80.0</td>\n",
       "      <td>True</td>\n",
       "      <td>20.0</td>\n",
       "      <td>False</td>\n",
       "      <td>False</td>\n",
       "      <td>False</td>\n",
       "      <td>False</td>\n",
       "      <td>False</td>\n",
       "      <td>False</td>\n",
       "      <td>True</td>\n",
       "      <td>False</td>\n",
       "      <td>True</td>\n",
       "      <td>False</td>\n",
       "      <td>False</td>\n",
       "      <td>False</td>\n",
       "      <td>False</td>\n",
       "      <td>False</td>\n",
       "      <td>False</td>\n",
       "      <td>False</td>\n",
       "      <td>False</td>\n",
       "      <td>False</td>\n",
       "      <td>True</td>\n",
       "      <td>False</td>\n",
       "      <td>False</td>\n",
       "      <td>False</td>\n",
       "      <td>False</td>\n",
       "      <td>True</td>\n",
       "      <td>False</td>\n",
       "    </tr>\n",
       "    <tr>\n",
       "      <th>3153</th>\n",
       "      <td>Drama,Thriller,Crime,Film-Noir</td>\n",
       "      <td>1</td>\n",
       "      <td>0</td>\n",
       "      <td>21</td>\n",
       "      <td>99</td>\n",
       "      <td>Touch of Evil</td>\n",
       "      <td>1-Feb-58</td>\n",
       "      <td>3</td>\n",
       "      <td>0</td>\n",
       "      <td>32</td>\n",
       "      <td>81.0</td>\n",
       "      <td>True</td>\n",
       "      <td>18.0</td>\n",
       "      <td>False</td>\n",
       "      <td>False</td>\n",
       "      <td>False</td>\n",
       "      <td>False</td>\n",
       "      <td>False</td>\n",
       "      <td>False</td>\n",
       "      <td>False</td>\n",
       "      <td>False</td>\n",
       "      <td>True</td>\n",
       "      <td>False</td>\n",
       "      <td>False</td>\n",
       "      <td>False</td>\n",
       "      <td>False</td>\n",
       "      <td>False</td>\n",
       "      <td>True</td>\n",
       "      <td>False</td>\n",
       "      <td>False</td>\n",
       "      <td>False</td>\n",
       "      <td>True</td>\n",
       "      <td>False</td>\n",
       "      <td>False</td>\n",
       "      <td>False</td>\n",
       "      <td>False</td>\n",
       "      <td>True</td>\n",
       "      <td>False</td>\n",
       "    </tr>\n",
       "    <tr>\n",
       "      <th>3867</th>\n",
       "      <td>Mystery,Film-Noir</td>\n",
       "      <td>0</td>\n",
       "      <td>0</td>\n",
       "      <td>15</td>\n",
       "      <td>96</td>\n",
       "      <td>The Maltese Falcon</td>\n",
       "      <td>18-Oct-41</td>\n",
       "      <td>2</td>\n",
       "      <td>1</td>\n",
       "      <td>35</td>\n",
       "      <td>81.0</td>\n",
       "      <td>True</td>\n",
       "      <td>15.0</td>\n",
       "      <td>False</td>\n",
       "      <td>False</td>\n",
       "      <td>False</td>\n",
       "      <td>False</td>\n",
       "      <td>False</td>\n",
       "      <td>False</td>\n",
       "      <td>False</td>\n",
       "      <td>False</td>\n",
       "      <td>True</td>\n",
       "      <td>False</td>\n",
       "      <td>False</td>\n",
       "      <td>False</td>\n",
       "      <td>False</td>\n",
       "      <td>False</td>\n",
       "      <td>False</td>\n",
       "      <td>False</td>\n",
       "      <td>False</td>\n",
       "      <td>False</td>\n",
       "      <td>False</td>\n",
       "      <td>False</td>\n",
       "      <td>False</td>\n",
       "      <td>False</td>\n",
       "      <td>True</td>\n",
       "      <td>False</td>\n",
       "      <td>False</td>\n",
       "    </tr>\n",
       "    <tr>\n",
       "      <th>4140</th>\n",
       "      <td>Mystery,Thriller,Film-Noir</td>\n",
       "      <td>1</td>\n",
       "      <td>0</td>\n",
       "      <td>29</td>\n",
       "      <td>97</td>\n",
       "      <td>The Third Man</td>\n",
       "      <td>3-Sep-49</td>\n",
       "      <td>3</td>\n",
       "      <td>2</td>\n",
       "      <td>45</td>\n",
       "      <td>83.0</td>\n",
       "      <td>True</td>\n",
       "      <td>14.0</td>\n",
       "      <td>False</td>\n",
       "      <td>False</td>\n",
       "      <td>False</td>\n",
       "      <td>False</td>\n",
       "      <td>False</td>\n",
       "      <td>False</td>\n",
       "      <td>False</td>\n",
       "      <td>False</td>\n",
       "      <td>True</td>\n",
       "      <td>False</td>\n",
       "      <td>False</td>\n",
       "      <td>False</td>\n",
       "      <td>False</td>\n",
       "      <td>False</td>\n",
       "      <td>False</td>\n",
       "      <td>False</td>\n",
       "      <td>False</td>\n",
       "      <td>False</td>\n",
       "      <td>False</td>\n",
       "      <td>False</td>\n",
       "      <td>False</td>\n",
       "      <td>False</td>\n",
       "      <td>True</td>\n",
       "      <td>True</td>\n",
       "      <td>False</td>\n",
       "    </tr>\n",
       "    <tr>\n",
       "      <th>5076</th>\n",
       "      <td>Drama,Mystery,Thriller,Crime,Film-Noir</td>\n",
       "      <td>1</td>\n",
       "      <td>0</td>\n",
       "      <td>16</td>\n",
       "      <td>95</td>\n",
       "      <td>Double Indemnity</td>\n",
       "      <td>6-Jul-44</td>\n",
       "      <td>3</td>\n",
       "      <td>0</td>\n",
       "      <td>28</td>\n",
       "      <td>84.0</td>\n",
       "      <td>True</td>\n",
       "      <td>11.0</td>\n",
       "      <td>False</td>\n",
       "      <td>False</td>\n",
       "      <td>False</td>\n",
       "      <td>False</td>\n",
       "      <td>False</td>\n",
       "      <td>False</td>\n",
       "      <td>False</td>\n",
       "      <td>False</td>\n",
       "      <td>True</td>\n",
       "      <td>False</td>\n",
       "      <td>False</td>\n",
       "      <td>False</td>\n",
       "      <td>False</td>\n",
       "      <td>False</td>\n",
       "      <td>True</td>\n",
       "      <td>False</td>\n",
       "      <td>False</td>\n",
       "      <td>False</td>\n",
       "      <td>True</td>\n",
       "      <td>False</td>\n",
       "      <td>False</td>\n",
       "      <td>False</td>\n",
       "      <td>True</td>\n",
       "      <td>True</td>\n",
       "      <td>False</td>\n",
       "    </tr>\n",
       "    <tr>\n",
       "      <th>7939</th>\n",
       "      <td>Thriller,Crime,Film-Noir</td>\n",
       "      <td>1</td>\n",
       "      <td>0</td>\n",
       "      <td>14</td>\n",
       "      <td>88</td>\n",
       "      <td>Strangers on a Train</td>\n",
       "      <td>30-Jun-51</td>\n",
       "      <td>3</td>\n",
       "      <td>0</td>\n",
       "      <td>20</td>\n",
       "      <td>85.0</td>\n",
       "      <td>True</td>\n",
       "      <td>3.0</td>\n",
       "      <td>False</td>\n",
       "      <td>False</td>\n",
       "      <td>False</td>\n",
       "      <td>False</td>\n",
       "      <td>False</td>\n",
       "      <td>False</td>\n",
       "      <td>False</td>\n",
       "      <td>False</td>\n",
       "      <td>True</td>\n",
       "      <td>False</td>\n",
       "      <td>False</td>\n",
       "      <td>False</td>\n",
       "      <td>False</td>\n",
       "      <td>False</td>\n",
       "      <td>True</td>\n",
       "      <td>False</td>\n",
       "      <td>False</td>\n",
       "      <td>False</td>\n",
       "      <td>False</td>\n",
       "      <td>False</td>\n",
       "      <td>False</td>\n",
       "      <td>False</td>\n",
       "      <td>False</td>\n",
       "      <td>True</td>\n",
       "      <td>False</td>\n",
       "    </tr>\n",
       "  </tbody>\n",
       "</table>\n",
       "</div>"
      ],
      "text/plain": [
       "                                       genre  meta_mixed  meta_negative  \\\n",
       "2766        Drama,Thriller,Romance,Film-Noir           0              0   \n",
       "3153          Drama,Thriller,Crime,Film-Noir           1              0   \n",
       "3867                       Mystery,Film-Noir           0              0   \n",
       "4140              Mystery,Thriller,Film-Noir           1              0   \n",
       "5076  Drama,Mystery,Thriller,Crime,Film-Noir           1              0   \n",
       "7939                Thriller,Crime,Film-Noir           1              0   \n",
       "\n",
       "      meta_positive  metascore           movie_title release_date user_mixed  \\\n",
       "2766             16        100             Notorious     6-Sep-46          2   \n",
       "3153             21         99         Touch of Evil     1-Feb-58          3   \n",
       "3867             15         96    The Maltese Falcon    18-Oct-41          2   \n",
       "4140             29         97         The Third Man     3-Sep-49          3   \n",
       "5076             16         95      Double Indemnity     6-Jul-44          3   \n",
       "7939             14         88  Strangers on a Train    30-Jun-51          3   \n",
       "\n",
       "     user_negative user_positive  userscore  comparison  difference  isComedy  \\\n",
       "2766             2            30       80.0        True        20.0     False   \n",
       "3153             0            32       81.0        True        18.0     False   \n",
       "3867             1            35       81.0        True        15.0     False   \n",
       "4140             2            45       83.0        True        14.0     False   \n",
       "5076             0            28       84.0        True        11.0     False   \n",
       "7939             0            20       85.0        True         3.0     False   \n",
       "\n",
       "      isWestern  isBiography  isNews  isAdventure  isShort  isRomance  \\\n",
       "2766      False        False   False        False    False       True   \n",
       "3153      False        False   False        False    False      False   \n",
       "3867      False        False   False        False    False      False   \n",
       "4140      False        False   False        False    False      False   \n",
       "5076      False        False   False        False    False      False   \n",
       "7939      False        False   False        False    False      False   \n",
       "\n",
       "      isAnimation  isFilm-Noir  isMusic  isHistory  isSport  isSci-Fi  \\\n",
       "2766        False         True    False      False    False     False   \n",
       "3153        False         True    False      False    False     False   \n",
       "3867        False         True    False      False    False     False   \n",
       "4140        False         True    False      False    False     False   \n",
       "5076        False         True    False      False    False     False   \n",
       "7939        False         True    False      False    False     False   \n",
       "\n",
       "      isAdult  isCrime  isFantasy  isWar  isHorror  isDrama  isDocumentary  \\\n",
       "2766    False    False      False  False     False     True          False   \n",
       "3153    False     True      False  False     False     True          False   \n",
       "3867    False    False      False  False     False    False          False   \n",
       "4140    False    False      False  False     False    False          False   \n",
       "5076    False     True      False  False     False     True          False   \n",
       "7939    False     True      False  False     False    False          False   \n",
       "\n",
       "      isMusical  isAction  isMystery  isThriller  isFamily  \n",
       "2766      False     False      False        True     False  \n",
       "3153      False     False      False        True     False  \n",
       "3867      False     False       True       False     False  \n",
       "4140      False     False       True        True     False  \n",
       "5076      False     False       True        True     False  \n",
       "7939      False     False      False        True     False  "
      ]
     },
     "execution_count": 66,
     "metadata": {},
     "output_type": "execute_result"
    }
   ],
   "source": [
    "df_score[df_score['isFilm-Noir']]"
   ]
  },
  {
   "cell_type": "code",
   "execution_count": 22,
   "metadata": {},
   "outputs": [
    {
     "data": {
      "text/plain": [
       "Index(['isComedy', 'isWestern', 'isBiography', 'isNews', 'isAdventure',\n",
       "       'isShort', 'isRomance', 'isAnimation', 'isFilm-Noir', 'isMusic',\n",
       "       'isHistory', 'isSport', 'isSci-Fi', 'isAdult', 'isCrime', 'isFantasy',\n",
       "       'isWar', 'isHorror', 'isDrama', 'isDocumentary', 'isMusical',\n",
       "       'isAction', 'isMystery', 'isThriller', 'isFamily'],\n",
       "      dtype='object')"
      ]
     },
     "execution_count": 22,
     "metadata": {},
     "output_type": "execute_result"
    }
   ],
   "source": [
    "df_score.columns[-25:]"
   ]
  },
  {
   "cell_type": "code",
   "execution_count": 52,
   "metadata": {},
   "outputs": [
    {
     "data": {
      "text/plain": [
       "Action         65.644578\n",
       "Film-Noir      82.333333\n",
       "Horror         62.405436\n",
       "Sport          70.698473\n",
       "Fantasy        67.567532\n",
       "Romance        69.123134\n",
       "Thriller       65.934487\n",
       "Crime          69.255994\n",
       "Comedy         66.376827\n",
       "Sci-Fi         65.564917\n",
       "Adventure      67.462567\n",
       "Mystery        67.554430\n",
       "Family         66.313056\n",
       "Musical        70.861878\n",
       "Western        69.818182\n",
       "Drama          69.508026\n",
       "Music          70.158163\n",
       "Animation      69.935567\n",
       "War            70.761905\n",
       "Biography      70.889632\n",
       "History        70.970745\n",
       "Adult          51.666667\n",
       "Documentary    71.673254\n",
       "News           71.736842\n",
       "Short          67.250000\n",
       "Name: user, dtype: float64"
      ]
     },
     "execution_count": 52,
     "metadata": {},
     "output_type": "execute_result"
    }
   ],
   "source": [
    "pd.options.display.max_columns = 999\n",
    "\n",
    "\n",
    "scores = []\n",
    "for genre in df_score.columns[-25:]:\n",
    "    scores.append([df_score[df_score[genre]].userscore.mean(),df_score[df_score[genre]].metascore.mean()])\n",
    "\n",
    "genre_comparison = pd.DataFrame(scores)\n",
    "genre_comparison.index = (df_score.columns[-25:])\n",
    "genre_comparison.columns=['user','meta']\n",
    "genre_comparison['difference'] = abs(genre_comparison.user - genre_comparison.meta)\n",
    "genre_comparison =genre_comparison.sort_values('difference',ascending=False)\n",
    "genre_comparison.index = [x[2:] for x in genre_comparison.index.tolist()]\n",
    "genre_comparison.user\n"
   ]
  },
  {
   "cell_type": "code",
   "execution_count": 63,
   "metadata": {},
   "outputs": [
    {
     "data": {
      "application/vnd.plotly.v1+json": {
       "config": {
        "plotlyServerURL": "https://plot.ly"
       },
       "data": [
        {
         "marker": {
          "color": "#7393BC"
         },
         "name": "userscore",
         "type": "bar",
         "x": [
          "Action",
          "Film-Noir",
          "Horror",
          "Sport",
          "Fantasy",
          "Romance",
          "Thriller",
          "Crime",
          "Comedy",
          "Sci-Fi",
          "Adventure",
          "Mystery",
          "Family",
          "Musical",
          "Western",
          "Drama",
          "Music",
          "Animation",
          "War",
          "Biography",
          "History",
          "Adult",
          "Documentary",
          "News",
          "Short"
         ],
         "y": [
          65.644578313253,
          82.33333333333333,
          62.405436013590034,
          70.69847328244275,
          67.56753246753247,
          69.1231343283582,
          65.9344870210136,
          69.25599381283835,
          66.37682672233821,
          65.56491712707182,
          67.46256684491979,
          67.55443037974683,
          66.31305637982196,
          70.86187845303867,
          69.81818181818181,
          69.50802584948926,
          70.15816326530613,
          69.93556701030928,
          70.76190476190476,
          70.88963210702342,
          70.97074468085107,
          51.666666666666664,
          71.67325428194994,
          71.73684210526316,
          67.25
         ]
        },
        {
         "marker": {
          "color": "#95D845"
         },
         "name": "metascore",
         "type": "bar",
         "x": [
          "Action",
          "Film-Noir",
          "Horror",
          "Sport",
          "Fantasy",
          "Romance",
          "Thriller",
          "Crime",
          "Comedy",
          "Sci-Fi",
          "Adventure",
          "Mystery",
          "Family",
          "Musical",
          "Western",
          "Drama",
          "Music",
          "Animation",
          "War",
          "Biography",
          "History",
          "Adult",
          "Documentary",
          "News",
          "Short"
         ],
         "y": [
          51.42034805890228,
          95.83333333333333,
          49.73046432616081,
          58.2442748091603,
          55.17402597402597,
          56.90174129353234,
          53.7725587144623,
          57.15467904098995,
          54.276270006958946,
          53.75276243093923,
          55.78698752228164,
          56.346835443037975,
          55.8353115727003,
          60.91160220994475,
          61.1,
          61.071294559099435,
          61.785714285714285,
          61.88659793814433,
          64.3422619047619,
          65.54180602006689,
          67.07180851063829,
          54.666666666666664,
          70.95256916996047,
          71.94736842105263,
          67.25
         ]
        }
       ],
       "layout": {
        "barmode": "group",
        "height": 600,
        "template": {
         "data": {
          "bar": [
           {
            "error_x": {
             "color": "#2a3f5f"
            },
            "error_y": {
             "color": "#2a3f5f"
            },
            "marker": {
             "line": {
              "color": "#E5ECF6",
              "width": 0.5
             }
            },
            "type": "bar"
           }
          ],
          "barpolar": [
           {
            "marker": {
             "line": {
              "color": "#E5ECF6",
              "width": 0.5
             }
            },
            "type": "barpolar"
           }
          ],
          "carpet": [
           {
            "aaxis": {
             "endlinecolor": "#2a3f5f",
             "gridcolor": "white",
             "linecolor": "white",
             "minorgridcolor": "white",
             "startlinecolor": "#2a3f5f"
            },
            "baxis": {
             "endlinecolor": "#2a3f5f",
             "gridcolor": "white",
             "linecolor": "white",
             "minorgridcolor": "white",
             "startlinecolor": "#2a3f5f"
            },
            "type": "carpet"
           }
          ],
          "choropleth": [
           {
            "colorbar": {
             "outlinewidth": 0,
             "ticks": ""
            },
            "type": "choropleth"
           }
          ],
          "contour": [
           {
            "colorbar": {
             "outlinewidth": 0,
             "ticks": ""
            },
            "colorscale": [
             [
              0,
              "#0d0887"
             ],
             [
              0.1111111111111111,
              "#46039f"
             ],
             [
              0.2222222222222222,
              "#7201a8"
             ],
             [
              0.3333333333333333,
              "#9c179e"
             ],
             [
              0.4444444444444444,
              "#bd3786"
             ],
             [
              0.5555555555555556,
              "#d8576b"
             ],
             [
              0.6666666666666666,
              "#ed7953"
             ],
             [
              0.7777777777777778,
              "#fb9f3a"
             ],
             [
              0.8888888888888888,
              "#fdca26"
             ],
             [
              1,
              "#f0f921"
             ]
            ],
            "type": "contour"
           }
          ],
          "contourcarpet": [
           {
            "colorbar": {
             "outlinewidth": 0,
             "ticks": ""
            },
            "type": "contourcarpet"
           }
          ],
          "heatmap": [
           {
            "colorbar": {
             "outlinewidth": 0,
             "ticks": ""
            },
            "colorscale": [
             [
              0,
              "#0d0887"
             ],
             [
              0.1111111111111111,
              "#46039f"
             ],
             [
              0.2222222222222222,
              "#7201a8"
             ],
             [
              0.3333333333333333,
              "#9c179e"
             ],
             [
              0.4444444444444444,
              "#bd3786"
             ],
             [
              0.5555555555555556,
              "#d8576b"
             ],
             [
              0.6666666666666666,
              "#ed7953"
             ],
             [
              0.7777777777777778,
              "#fb9f3a"
             ],
             [
              0.8888888888888888,
              "#fdca26"
             ],
             [
              1,
              "#f0f921"
             ]
            ],
            "type": "heatmap"
           }
          ],
          "heatmapgl": [
           {
            "colorbar": {
             "outlinewidth": 0,
             "ticks": ""
            },
            "colorscale": [
             [
              0,
              "#0d0887"
             ],
             [
              0.1111111111111111,
              "#46039f"
             ],
             [
              0.2222222222222222,
              "#7201a8"
             ],
             [
              0.3333333333333333,
              "#9c179e"
             ],
             [
              0.4444444444444444,
              "#bd3786"
             ],
             [
              0.5555555555555556,
              "#d8576b"
             ],
             [
              0.6666666666666666,
              "#ed7953"
             ],
             [
              0.7777777777777778,
              "#fb9f3a"
             ],
             [
              0.8888888888888888,
              "#fdca26"
             ],
             [
              1,
              "#f0f921"
             ]
            ],
            "type": "heatmapgl"
           }
          ],
          "histogram": [
           {
            "marker": {
             "colorbar": {
              "outlinewidth": 0,
              "ticks": ""
             }
            },
            "type": "histogram"
           }
          ],
          "histogram2d": [
           {
            "colorbar": {
             "outlinewidth": 0,
             "ticks": ""
            },
            "colorscale": [
             [
              0,
              "#0d0887"
             ],
             [
              0.1111111111111111,
              "#46039f"
             ],
             [
              0.2222222222222222,
              "#7201a8"
             ],
             [
              0.3333333333333333,
              "#9c179e"
             ],
             [
              0.4444444444444444,
              "#bd3786"
             ],
             [
              0.5555555555555556,
              "#d8576b"
             ],
             [
              0.6666666666666666,
              "#ed7953"
             ],
             [
              0.7777777777777778,
              "#fb9f3a"
             ],
             [
              0.8888888888888888,
              "#fdca26"
             ],
             [
              1,
              "#f0f921"
             ]
            ],
            "type": "histogram2d"
           }
          ],
          "histogram2dcontour": [
           {
            "colorbar": {
             "outlinewidth": 0,
             "ticks": ""
            },
            "colorscale": [
             [
              0,
              "#0d0887"
             ],
             [
              0.1111111111111111,
              "#46039f"
             ],
             [
              0.2222222222222222,
              "#7201a8"
             ],
             [
              0.3333333333333333,
              "#9c179e"
             ],
             [
              0.4444444444444444,
              "#bd3786"
             ],
             [
              0.5555555555555556,
              "#d8576b"
             ],
             [
              0.6666666666666666,
              "#ed7953"
             ],
             [
              0.7777777777777778,
              "#fb9f3a"
             ],
             [
              0.8888888888888888,
              "#fdca26"
             ],
             [
              1,
              "#f0f921"
             ]
            ],
            "type": "histogram2dcontour"
           }
          ],
          "mesh3d": [
           {
            "colorbar": {
             "outlinewidth": 0,
             "ticks": ""
            },
            "type": "mesh3d"
           }
          ],
          "parcoords": [
           {
            "line": {
             "colorbar": {
              "outlinewidth": 0,
              "ticks": ""
             }
            },
            "type": "parcoords"
           }
          ],
          "scatter": [
           {
            "marker": {
             "colorbar": {
              "outlinewidth": 0,
              "ticks": ""
             }
            },
            "type": "scatter"
           }
          ],
          "scatter3d": [
           {
            "line": {
             "colorbar": {
              "outlinewidth": 0,
              "ticks": ""
             }
            },
            "marker": {
             "colorbar": {
              "outlinewidth": 0,
              "ticks": ""
             }
            },
            "type": "scatter3d"
           }
          ],
          "scattercarpet": [
           {
            "marker": {
             "colorbar": {
              "outlinewidth": 0,
              "ticks": ""
             }
            },
            "type": "scattercarpet"
           }
          ],
          "scattergeo": [
           {
            "marker": {
             "colorbar": {
              "outlinewidth": 0,
              "ticks": ""
             }
            },
            "type": "scattergeo"
           }
          ],
          "scattergl": [
           {
            "marker": {
             "colorbar": {
              "outlinewidth": 0,
              "ticks": ""
             }
            },
            "type": "scattergl"
           }
          ],
          "scattermapbox": [
           {
            "marker": {
             "colorbar": {
              "outlinewidth": 0,
              "ticks": ""
             }
            },
            "type": "scattermapbox"
           }
          ],
          "scatterpolar": [
           {
            "marker": {
             "colorbar": {
              "outlinewidth": 0,
              "ticks": ""
             }
            },
            "type": "scatterpolar"
           }
          ],
          "scatterpolargl": [
           {
            "marker": {
             "colorbar": {
              "outlinewidth": 0,
              "ticks": ""
             }
            },
            "type": "scatterpolargl"
           }
          ],
          "scatterternary": [
           {
            "marker": {
             "colorbar": {
              "outlinewidth": 0,
              "ticks": ""
             }
            },
            "type": "scatterternary"
           }
          ],
          "surface": [
           {
            "colorbar": {
             "outlinewidth": 0,
             "ticks": ""
            },
            "colorscale": [
             [
              0,
              "#0d0887"
             ],
             [
              0.1111111111111111,
              "#46039f"
             ],
             [
              0.2222222222222222,
              "#7201a8"
             ],
             [
              0.3333333333333333,
              "#9c179e"
             ],
             [
              0.4444444444444444,
              "#bd3786"
             ],
             [
              0.5555555555555556,
              "#d8576b"
             ],
             [
              0.6666666666666666,
              "#ed7953"
             ],
             [
              0.7777777777777778,
              "#fb9f3a"
             ],
             [
              0.8888888888888888,
              "#fdca26"
             ],
             [
              1,
              "#f0f921"
             ]
            ],
            "type": "surface"
           }
          ],
          "table": [
           {
            "cells": {
             "fill": {
              "color": "#EBF0F8"
             },
             "line": {
              "color": "white"
             }
            },
            "header": {
             "fill": {
              "color": "#C8D4E3"
             },
             "line": {
              "color": "white"
             }
            },
            "type": "table"
           }
          ]
         },
         "layout": {
          "annotationdefaults": {
           "arrowcolor": "#2a3f5f",
           "arrowhead": 0,
           "arrowwidth": 1
          },
          "colorscale": {
           "diverging": [
            [
             0,
             "#8e0152"
            ],
            [
             0.1,
             "#c51b7d"
            ],
            [
             0.2,
             "#de77ae"
            ],
            [
             0.3,
             "#f1b6da"
            ],
            [
             0.4,
             "#fde0ef"
            ],
            [
             0.5,
             "#f7f7f7"
            ],
            [
             0.6,
             "#e6f5d0"
            ],
            [
             0.7,
             "#b8e186"
            ],
            [
             0.8,
             "#7fbc41"
            ],
            [
             0.9,
             "#4d9221"
            ],
            [
             1,
             "#276419"
            ]
           ],
           "sequential": [
            [
             0,
             "#0d0887"
            ],
            [
             0.1111111111111111,
             "#46039f"
            ],
            [
             0.2222222222222222,
             "#7201a8"
            ],
            [
             0.3333333333333333,
             "#9c179e"
            ],
            [
             0.4444444444444444,
             "#bd3786"
            ],
            [
             0.5555555555555556,
             "#d8576b"
            ],
            [
             0.6666666666666666,
             "#ed7953"
            ],
            [
             0.7777777777777778,
             "#fb9f3a"
            ],
            [
             0.8888888888888888,
             "#fdca26"
            ],
            [
             1,
             "#f0f921"
            ]
           ],
           "sequentialminus": [
            [
             0,
             "#0d0887"
            ],
            [
             0.1111111111111111,
             "#46039f"
            ],
            [
             0.2222222222222222,
             "#7201a8"
            ],
            [
             0.3333333333333333,
             "#9c179e"
            ],
            [
             0.4444444444444444,
             "#bd3786"
            ],
            [
             0.5555555555555556,
             "#d8576b"
            ],
            [
             0.6666666666666666,
             "#ed7953"
            ],
            [
             0.7777777777777778,
             "#fb9f3a"
            ],
            [
             0.8888888888888888,
             "#fdca26"
            ],
            [
             1,
             "#f0f921"
            ]
           ]
          },
          "colorway": [
           "#636efa",
           "#EF553B",
           "#00cc96",
           "#ab63fa",
           "#FFA15A",
           "#19d3f3",
           "#FF6692",
           "#B6E880",
           "#FF97FF",
           "#FECB52"
          ],
          "font": {
           "color": "#2a3f5f"
          },
          "geo": {
           "bgcolor": "white",
           "lakecolor": "white",
           "landcolor": "#E5ECF6",
           "showlakes": true,
           "showland": true,
           "subunitcolor": "white"
          },
          "hoverlabel": {
           "align": "left"
          },
          "hovermode": "closest",
          "mapbox": {
           "style": "light"
          },
          "paper_bgcolor": "white",
          "plot_bgcolor": "#E5ECF6",
          "polar": {
           "angularaxis": {
            "gridcolor": "white",
            "linecolor": "white",
            "ticks": ""
           },
           "bgcolor": "#E5ECF6",
           "radialaxis": {
            "gridcolor": "white",
            "linecolor": "white",
            "ticks": ""
           }
          },
          "scene": {
           "xaxis": {
            "backgroundcolor": "#E5ECF6",
            "gridcolor": "white",
            "gridwidth": 2,
            "linecolor": "white",
            "showbackground": true,
            "ticks": "",
            "zerolinecolor": "white"
           },
           "yaxis": {
            "backgroundcolor": "#E5ECF6",
            "gridcolor": "white",
            "gridwidth": 2,
            "linecolor": "white",
            "showbackground": true,
            "ticks": "",
            "zerolinecolor": "white"
           },
           "zaxis": {
            "backgroundcolor": "#E5ECF6",
            "gridcolor": "white",
            "gridwidth": 2,
            "linecolor": "white",
            "showbackground": true,
            "ticks": "",
            "zerolinecolor": "white"
           }
          },
          "shapedefaults": {
           "line": {
            "color": "#2a3f5f"
           }
          },
          "ternary": {
           "aaxis": {
            "gridcolor": "white",
            "linecolor": "white",
            "ticks": ""
           },
           "baxis": {
            "gridcolor": "white",
            "linecolor": "white",
            "ticks": ""
           },
           "bgcolor": "#E5ECF6",
           "caxis": {
            "gridcolor": "white",
            "linecolor": "white",
            "ticks": ""
           }
          },
          "title": {
           "x": 0.05
          },
          "xaxis": {
           "automargin": true,
           "gridcolor": "white",
           "linecolor": "white",
           "ticks": "",
           "zerolinecolor": "white",
           "zerolinewidth": 2
          },
          "yaxis": {
           "automargin": true,
           "gridcolor": "white",
           "linecolor": "white",
           "ticks": "",
           "zerolinecolor": "white",
           "zerolinewidth": 2
          }
         }
        },
        "width": 1000,
        "xaxis": {
         "tickangle": -80
        }
       }
      },
      "text/html": [
       "<div>\n",
       "        \n",
       "        \n",
       "            <div id=\"e21f7fa0-7c16-41a7-9f3a-6ed86e5ac360\" class=\"plotly-graph-div\" style=\"height:600px; width:1000px;\"></div>\n",
       "            <script type=\"text/javascript\">\n",
       "                require([\"plotly\"], function(Plotly) {\n",
       "                    window.PLOTLYENV=window.PLOTLYENV || {};\n",
       "                    \n",
       "                if (document.getElementById(\"e21f7fa0-7c16-41a7-9f3a-6ed86e5ac360\")) {\n",
       "                    Plotly.newPlot(\n",
       "                        'e21f7fa0-7c16-41a7-9f3a-6ed86e5ac360',\n",
       "                        [{\"marker\": {\"color\": \"#7393BC\"}, \"name\": \"userscore\", \"type\": \"bar\", \"x\": [\"Action\", \"Film-Noir\", \"Horror\", \"Sport\", \"Fantasy\", \"Romance\", \"Thriller\", \"Crime\", \"Comedy\", \"Sci-Fi\", \"Adventure\", \"Mystery\", \"Family\", \"Musical\", \"Western\", \"Drama\", \"Music\", \"Animation\", \"War\", \"Biography\", \"History\", \"Adult\", \"Documentary\", \"News\", \"Short\"], \"y\": [65.644578313253, 82.33333333333333, 62.405436013590034, 70.69847328244275, 67.56753246753247, 69.1231343283582, 65.9344870210136, 69.25599381283835, 66.37682672233821, 65.56491712707182, 67.46256684491979, 67.55443037974683, 66.31305637982196, 70.86187845303867, 69.81818181818181, 69.50802584948926, 70.15816326530613, 69.93556701030928, 70.76190476190476, 70.88963210702342, 70.97074468085107, 51.666666666666664, 71.67325428194994, 71.73684210526316, 67.25]}, {\"marker\": {\"color\": \"#95D845\"}, \"name\": \"metascore\", \"type\": \"bar\", \"x\": [\"Action\", \"Film-Noir\", \"Horror\", \"Sport\", \"Fantasy\", \"Romance\", \"Thriller\", \"Crime\", \"Comedy\", \"Sci-Fi\", \"Adventure\", \"Mystery\", \"Family\", \"Musical\", \"Western\", \"Drama\", \"Music\", \"Animation\", \"War\", \"Biography\", \"History\", \"Adult\", \"Documentary\", \"News\", \"Short\"], \"y\": [51.42034805890228, 95.83333333333333, 49.73046432616081, 58.2442748091603, 55.17402597402597, 56.90174129353234, 53.7725587144623, 57.15467904098995, 54.276270006958946, 53.75276243093923, 55.78698752228164, 56.346835443037975, 55.8353115727003, 60.91160220994475, 61.1, 61.071294559099435, 61.785714285714285, 61.88659793814433, 64.3422619047619, 65.54180602006689, 67.07180851063829, 54.666666666666664, 70.95256916996047, 71.94736842105263, 67.25]}],\n",
       "                        {\"barmode\": \"group\", \"height\": 600, \"template\": {\"data\": {\"bar\": [{\"error_x\": {\"color\": \"#2a3f5f\"}, \"error_y\": {\"color\": \"#2a3f5f\"}, \"marker\": {\"line\": {\"color\": \"#E5ECF6\", \"width\": 0.5}}, \"type\": \"bar\"}], \"barpolar\": [{\"marker\": {\"line\": {\"color\": \"#E5ECF6\", \"width\": 0.5}}, \"type\": \"barpolar\"}], \"carpet\": [{\"aaxis\": {\"endlinecolor\": \"#2a3f5f\", \"gridcolor\": \"white\", \"linecolor\": \"white\", \"minorgridcolor\": \"white\", \"startlinecolor\": \"#2a3f5f\"}, \"baxis\": {\"endlinecolor\": \"#2a3f5f\", \"gridcolor\": \"white\", \"linecolor\": \"white\", \"minorgridcolor\": \"white\", \"startlinecolor\": \"#2a3f5f\"}, \"type\": \"carpet\"}], \"choropleth\": [{\"colorbar\": {\"outlinewidth\": 0, \"ticks\": \"\"}, \"type\": \"choropleth\"}], \"contour\": [{\"colorbar\": {\"outlinewidth\": 0, \"ticks\": \"\"}, \"colorscale\": [[0.0, \"#0d0887\"], [0.1111111111111111, \"#46039f\"], [0.2222222222222222, \"#7201a8\"], [0.3333333333333333, \"#9c179e\"], [0.4444444444444444, \"#bd3786\"], [0.5555555555555556, \"#d8576b\"], [0.6666666666666666, \"#ed7953\"], [0.7777777777777778, \"#fb9f3a\"], [0.8888888888888888, \"#fdca26\"], [1.0, \"#f0f921\"]], \"type\": \"contour\"}], \"contourcarpet\": [{\"colorbar\": {\"outlinewidth\": 0, \"ticks\": \"\"}, \"type\": \"contourcarpet\"}], \"heatmap\": [{\"colorbar\": {\"outlinewidth\": 0, \"ticks\": \"\"}, \"colorscale\": [[0.0, \"#0d0887\"], [0.1111111111111111, \"#46039f\"], [0.2222222222222222, \"#7201a8\"], [0.3333333333333333, \"#9c179e\"], [0.4444444444444444, \"#bd3786\"], [0.5555555555555556, \"#d8576b\"], [0.6666666666666666, \"#ed7953\"], [0.7777777777777778, \"#fb9f3a\"], [0.8888888888888888, \"#fdca26\"], [1.0, \"#f0f921\"]], \"type\": \"heatmap\"}], \"heatmapgl\": [{\"colorbar\": {\"outlinewidth\": 0, \"ticks\": \"\"}, \"colorscale\": [[0.0, \"#0d0887\"], [0.1111111111111111, \"#46039f\"], [0.2222222222222222, \"#7201a8\"], [0.3333333333333333, \"#9c179e\"], [0.4444444444444444, \"#bd3786\"], [0.5555555555555556, \"#d8576b\"], [0.6666666666666666, \"#ed7953\"], [0.7777777777777778, \"#fb9f3a\"], [0.8888888888888888, \"#fdca26\"], [1.0, \"#f0f921\"]], \"type\": \"heatmapgl\"}], \"histogram\": [{\"marker\": {\"colorbar\": {\"outlinewidth\": 0, \"ticks\": \"\"}}, \"type\": \"histogram\"}], \"histogram2d\": [{\"colorbar\": {\"outlinewidth\": 0, \"ticks\": \"\"}, \"colorscale\": [[0.0, \"#0d0887\"], [0.1111111111111111, \"#46039f\"], [0.2222222222222222, \"#7201a8\"], [0.3333333333333333, \"#9c179e\"], [0.4444444444444444, \"#bd3786\"], [0.5555555555555556, \"#d8576b\"], [0.6666666666666666, \"#ed7953\"], [0.7777777777777778, \"#fb9f3a\"], [0.8888888888888888, \"#fdca26\"], [1.0, \"#f0f921\"]], \"type\": \"histogram2d\"}], \"histogram2dcontour\": [{\"colorbar\": {\"outlinewidth\": 0, \"ticks\": \"\"}, \"colorscale\": [[0.0, \"#0d0887\"], [0.1111111111111111, \"#46039f\"], [0.2222222222222222, \"#7201a8\"], [0.3333333333333333, \"#9c179e\"], [0.4444444444444444, \"#bd3786\"], [0.5555555555555556, \"#d8576b\"], [0.6666666666666666, \"#ed7953\"], [0.7777777777777778, \"#fb9f3a\"], [0.8888888888888888, \"#fdca26\"], [1.0, \"#f0f921\"]], \"type\": \"histogram2dcontour\"}], \"mesh3d\": [{\"colorbar\": {\"outlinewidth\": 0, \"ticks\": \"\"}, \"type\": \"mesh3d\"}], \"parcoords\": [{\"line\": {\"colorbar\": {\"outlinewidth\": 0, \"ticks\": \"\"}}, \"type\": \"parcoords\"}], \"scatter\": [{\"marker\": {\"colorbar\": {\"outlinewidth\": 0, \"ticks\": \"\"}}, \"type\": \"scatter\"}], \"scatter3d\": [{\"line\": {\"colorbar\": {\"outlinewidth\": 0, \"ticks\": \"\"}}, \"marker\": {\"colorbar\": {\"outlinewidth\": 0, \"ticks\": \"\"}}, \"type\": \"scatter3d\"}], \"scattercarpet\": [{\"marker\": {\"colorbar\": {\"outlinewidth\": 0, \"ticks\": \"\"}}, \"type\": \"scattercarpet\"}], \"scattergeo\": [{\"marker\": {\"colorbar\": {\"outlinewidth\": 0, \"ticks\": \"\"}}, \"type\": \"scattergeo\"}], \"scattergl\": [{\"marker\": {\"colorbar\": {\"outlinewidth\": 0, \"ticks\": \"\"}}, \"type\": \"scattergl\"}], \"scattermapbox\": [{\"marker\": {\"colorbar\": {\"outlinewidth\": 0, \"ticks\": \"\"}}, \"type\": \"scattermapbox\"}], \"scatterpolar\": [{\"marker\": {\"colorbar\": {\"outlinewidth\": 0, \"ticks\": \"\"}}, \"type\": \"scatterpolar\"}], \"scatterpolargl\": [{\"marker\": {\"colorbar\": {\"outlinewidth\": 0, \"ticks\": \"\"}}, \"type\": \"scatterpolargl\"}], \"scatterternary\": [{\"marker\": {\"colorbar\": {\"outlinewidth\": 0, \"ticks\": \"\"}}, \"type\": \"scatterternary\"}], \"surface\": [{\"colorbar\": {\"outlinewidth\": 0, \"ticks\": \"\"}, \"colorscale\": [[0.0, \"#0d0887\"], [0.1111111111111111, \"#46039f\"], [0.2222222222222222, \"#7201a8\"], [0.3333333333333333, \"#9c179e\"], [0.4444444444444444, \"#bd3786\"], [0.5555555555555556, \"#d8576b\"], [0.6666666666666666, \"#ed7953\"], [0.7777777777777778, \"#fb9f3a\"], [0.8888888888888888, \"#fdca26\"], [1.0, \"#f0f921\"]], \"type\": \"surface\"}], \"table\": [{\"cells\": {\"fill\": {\"color\": \"#EBF0F8\"}, \"line\": {\"color\": \"white\"}}, \"header\": {\"fill\": {\"color\": \"#C8D4E3\"}, \"line\": {\"color\": \"white\"}}, \"type\": \"table\"}]}, \"layout\": {\"annotationdefaults\": {\"arrowcolor\": \"#2a3f5f\", \"arrowhead\": 0, \"arrowwidth\": 1}, \"colorscale\": {\"diverging\": [[0, \"#8e0152\"], [0.1, \"#c51b7d\"], [0.2, \"#de77ae\"], [0.3, \"#f1b6da\"], [0.4, \"#fde0ef\"], [0.5, \"#f7f7f7\"], [0.6, \"#e6f5d0\"], [0.7, \"#b8e186\"], [0.8, \"#7fbc41\"], [0.9, \"#4d9221\"], [1, \"#276419\"]], \"sequential\": [[0.0, \"#0d0887\"], [0.1111111111111111, \"#46039f\"], [0.2222222222222222, \"#7201a8\"], [0.3333333333333333, \"#9c179e\"], [0.4444444444444444, \"#bd3786\"], [0.5555555555555556, \"#d8576b\"], [0.6666666666666666, \"#ed7953\"], [0.7777777777777778, \"#fb9f3a\"], [0.8888888888888888, \"#fdca26\"], [1.0, \"#f0f921\"]], \"sequentialminus\": [[0.0, \"#0d0887\"], [0.1111111111111111, \"#46039f\"], [0.2222222222222222, \"#7201a8\"], [0.3333333333333333, \"#9c179e\"], [0.4444444444444444, \"#bd3786\"], [0.5555555555555556, \"#d8576b\"], [0.6666666666666666, \"#ed7953\"], [0.7777777777777778, \"#fb9f3a\"], [0.8888888888888888, \"#fdca26\"], [1.0, \"#f0f921\"]]}, \"colorway\": [\"#636efa\", \"#EF553B\", \"#00cc96\", \"#ab63fa\", \"#FFA15A\", \"#19d3f3\", \"#FF6692\", \"#B6E880\", \"#FF97FF\", \"#FECB52\"], \"font\": {\"color\": \"#2a3f5f\"}, \"geo\": {\"bgcolor\": \"white\", \"lakecolor\": \"white\", \"landcolor\": \"#E5ECF6\", \"showlakes\": true, \"showland\": true, \"subunitcolor\": \"white\"}, \"hoverlabel\": {\"align\": \"left\"}, \"hovermode\": \"closest\", \"mapbox\": {\"style\": \"light\"}, \"paper_bgcolor\": \"white\", \"plot_bgcolor\": \"#E5ECF6\", \"polar\": {\"angularaxis\": {\"gridcolor\": \"white\", \"linecolor\": \"white\", \"ticks\": \"\"}, \"bgcolor\": \"#E5ECF6\", \"radialaxis\": {\"gridcolor\": \"white\", \"linecolor\": \"white\", \"ticks\": \"\"}}, \"scene\": {\"xaxis\": {\"backgroundcolor\": \"#E5ECF6\", \"gridcolor\": \"white\", \"gridwidth\": 2, \"linecolor\": \"white\", \"showbackground\": true, \"ticks\": \"\", \"zerolinecolor\": \"white\"}, \"yaxis\": {\"backgroundcolor\": \"#E5ECF6\", \"gridcolor\": \"white\", \"gridwidth\": 2, \"linecolor\": \"white\", \"showbackground\": true, \"ticks\": \"\", \"zerolinecolor\": \"white\"}, \"zaxis\": {\"backgroundcolor\": \"#E5ECF6\", \"gridcolor\": \"white\", \"gridwidth\": 2, \"linecolor\": \"white\", \"showbackground\": true, \"ticks\": \"\", \"zerolinecolor\": \"white\"}}, \"shapedefaults\": {\"line\": {\"color\": \"#2a3f5f\"}}, \"ternary\": {\"aaxis\": {\"gridcolor\": \"white\", \"linecolor\": \"white\", \"ticks\": \"\"}, \"baxis\": {\"gridcolor\": \"white\", \"linecolor\": \"white\", \"ticks\": \"\"}, \"bgcolor\": \"#E5ECF6\", \"caxis\": {\"gridcolor\": \"white\", \"linecolor\": \"white\", \"ticks\": \"\"}}, \"title\": {\"x\": 0.05}, \"xaxis\": {\"automargin\": true, \"gridcolor\": \"white\", \"linecolor\": \"white\", \"ticks\": \"\", \"zerolinecolor\": \"white\", \"zerolinewidth\": 2}, \"yaxis\": {\"automargin\": true, \"gridcolor\": \"white\", \"linecolor\": \"white\", \"ticks\": \"\", \"zerolinecolor\": \"white\", \"zerolinewidth\": 2}}}, \"width\": 1000, \"xaxis\": {\"tickangle\": -80}},\n",
       "                        {\"responsive\": true}\n",
       "                    ).then(function(){\n",
       "                            \n",
       "var gd = document.getElementById('e21f7fa0-7c16-41a7-9f3a-6ed86e5ac360');\n",
       "var x = new MutationObserver(function (mutations, observer) {{\n",
       "        var display = window.getComputedStyle(gd).display;\n",
       "        if (!display || display === 'none') {{\n",
       "            console.log([gd, 'removed!']);\n",
       "            Plotly.purge(gd);\n",
       "            observer.disconnect();\n",
       "        }}\n",
       "}});\n",
       "\n",
       "// Listen for the removal of the full notebook cells\n",
       "var notebookContainer = gd.closest('#notebook-container');\n",
       "if (notebookContainer) {{\n",
       "    x.observe(notebookContainer, {childList: true});\n",
       "}}\n",
       "\n",
       "// Listen for the clearing of the current output cell\n",
       "var outputEl = gd.closest('.output');\n",
       "if (outputEl) {{\n",
       "    x.observe(outputEl, {childList: true});\n",
       "}}\n",
       "\n",
       "                        })\n",
       "                };\n",
       "                });\n",
       "            </script>\n",
       "        </div>"
      ]
     },
     "metadata": {},
     "output_type": "display_data"
    }
   ],
   "source": [
    "import plotly.graph_objects as go\n",
    "\n",
    "months = genre_comparison.index.tolist()\n",
    "months\n",
    "\n",
    "fig = go.Figure()\n",
    "fig.add_trace(go.Bar(\n",
    "    x=months,\n",
    "    y=genre_comparison.user,\n",
    "    name='userscore',\n",
    "    marker_color='#7393BC'\n",
    "))\n",
    "fig.add_trace(go.Bar(\n",
    "    x=months,\n",
    "    y=genre_comparison.meta,\n",
    "    name='metascore',\n",
    "    marker_color='#95D845'\n",
    "))\n",
    "\n",
    "# Here we modify the tickangle of the xaxis, resulting in rotated labels.\n",
    "fig.update_layout(barmode='group', xaxis_tickangle=-80,width=1000, height=600)\n",
    "fig.show()"
   ]
  },
  {
   "cell_type": "code",
   "execution_count": null,
   "metadata": {},
   "outputs": [],
   "source": []
  }
 ],
 "metadata": {
  "kernelspec": {
   "display_name": "Python 3",
   "language": "python",
   "name": "python3"
  },
  "language_info": {
   "codemirror_mode": {
    "name": "ipython",
    "version": 3
   },
   "file_extension": ".py",
   "mimetype": "text/x-python",
   "name": "python",
   "nbconvert_exporter": "python",
   "pygments_lexer": "ipython3",
   "version": "3.7.3"
  }
 },
 "nbformat": 4,
 "nbformat_minor": 2
}
