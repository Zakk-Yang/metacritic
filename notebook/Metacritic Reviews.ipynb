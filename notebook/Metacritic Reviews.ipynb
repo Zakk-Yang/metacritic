{
 "cells": [
  {
   "cell_type": "markdown",
   "metadata": {},
   "source": [
    "# Getting Started"
   ]
  },
  {
   "cell_type": "code",
   "execution_count": null,
   "metadata": {},
   "outputs": [],
   "source": [
    "import pandas as pd\n",
    "import numpy as np"
   ]
  },
  {
   "cell_type": "code",
   "execution_count": null,
   "metadata": {},
   "outputs": [],
   "source": [
    "import nltk\n",
    "nltk.download('stopwords')\n",
    "nltk.download('wordnet')\n",
    "\n",
    "from nltk.tokenize import word_tokenize\n",
    "from nltk import WordNetLemmatizer\n",
    "\n",
    "from nltk.stem import PorterStemmer\n",
    "stemmer = PorterStemmer()\n",
    "\n",
    "from textblob import TextBlob\n",
    "from wordcloud import WordCloud\n",
    "\n",
    "import matplotlib.pyplot as plt\n",
    "get_ipython().run_line_magic('matplotlib', 'inline')\n",
    "import re"
   ]
  },
  {
   "cell_type": "markdown",
   "metadata": {},
   "source": [
    "# Metacritic Reviews Overview"
   ]
  },
  {
   "cell_type": "code",
   "execution_count": null,
   "metadata": {
    "scrolled": true
   },
   "outputs": [],
   "source": [
    "df_review= pd.read_csv('metacritic_reviews.csv') \n",
    "df_review = df_review[['review_date','individual_meta_score']].dropna(axis=0, how='any')\n",
    "df_review['review_date'] = pd.to_datetime(df_review['review_date'])\n",
    "df_review = df_review.set_index('review_date')"
   ]
  },
  {
   "cell_type": "code",
   "execution_count": null,
   "metadata": {},
   "outputs": [],
   "source": [
    "graph_1 = df_review.groupby(df_review.index.map(lambda x: x.year)).agg({'individual_meta_score':['count']}).plot.bar(color='#7393BC', width = 0.5)\n",
    "\n",
    "graph_1.legend([\"Review\", \"\"])"
   ]
  },
  {
   "cell_type": "markdown",
   "metadata": {},
   "source": [
    "# Data Cleaning "
   ]
  },
  {
   "cell_type": "code",
   "execution_count": null,
   "metadata": {},
   "outputs": [],
   "source": [
    "df= pd.read_csv('metacritic_reviews.csv')"
   ]
  },
  {
   "cell_type": "code",
   "execution_count": null,
   "metadata": {},
   "outputs": [],
   "source": [
    "### drop nan values \n",
    "df = df.dropna(axis=0, how='any')"
   ]
  },
  {
   "cell_type": "code",
   "execution_count": null,
   "metadata": {},
   "outputs": [],
   "source": [
    "df_critics = df.groupby(['media','critic_name']).agg({'individual_meta_score':['mean','count']})"
   ]
  },
  {
   "cell_type": "code",
   "execution_count": null,
   "metadata": {},
   "outputs": [],
   "source": [
    "df['text'] = df['text'].str.lower()\n",
    "df['text'] = df['text'].apply(lambda x: re.sub('\\s+', ' ', x))"
   ]
  },
  {
   "cell_type": "code",
   "execution_count": null,
   "metadata": {},
   "outputs": [],
   "source": [
    "df['text'] = df['text'].apply(lambda x: re.sub('[^\\w\\s]', '', x))"
   ]
  },
  {
   "cell_type": "code",
   "execution_count": null,
   "metadata": {},
   "outputs": [],
   "source": [
    "from nltk.corpus import stopwords\n",
    "stop = stopwords.words('english')+['movie','make','film','one','even','films','movies','way','makes','made','thats']\n",
    "df['text'] = df['text'].apply(lambda text: \" \".join(word for word in text.split() if word not in stop))"
   ]
  },
  {
   "cell_type": "code",
   "execution_count": null,
   "metadata": {},
   "outputs": [],
   "source": [
    "df['review_date'] = pd.to_datetime(df['review_date'])\n",
    "df"
   ]
  },
  {
   "cell_type": "markdown",
   "metadata": {},
   "source": [
    "# Word Cloud"
   ]
  },
  {
   "cell_type": "code",
   "execution_count": null,
   "metadata": {},
   "outputs": [],
   "source": [
    "\n",
    "#df['release_date'] = pd.to_datetime(df['release_date'])\n",
    "mask1 = (df['review_date'] > '1/1/2009') & (df['review_date'] <= '1/1/2019') & (df['metascore'] > 70)\n",
    "mask2 = (df['review_date'] > '1/1/2009') & (df['review_date'] <= '1/1/2019') & (df['metascore'] < 30)\n",
    "mask3 = (df['review_date'] > '1/1/2009') & (df['review_date'] <= '1/1/2019') & (df['metascore'] > 30) & (df['metascore'] < 70)"
   ]
  },
  {
   "cell_type": "code",
   "execution_count": null,
   "metadata": {},
   "outputs": [],
   "source": [
    "wc1 = WordCloud(background_color=\"white\", max_words=2000, width=1600, height=800)\n",
    "# generate word cloud\n",
    "wc1.generate(' '.join(df.loc[mask1]['text']))\n",
    "plt.figure(figsize=(12, 6))\n",
    "plt.imshow(wc1, interpolation='bilinear')\n",
    "plt.axis(\"off\")\n",
    "plt.show()"
   ]
  },
  {
   "cell_type": "code",
   "execution_count": null,
   "metadata": {
    "scrolled": true
   },
   "outputs": [],
   "source": [
    "wc2 = WordCloud(background_color=\"white\", max_words=800, width=1600, height=800)\n",
    "# generate word cloud\n",
    "wc2.generate(' '.join(df.loc[mask2]['text']))\n",
    "plt.figure(figsize=(12, 6))\n",
    "plt.imshow(wc2, interpolation='bilinear')\n",
    "plt.axis(\"off\")\n",
    "plt.show()"
   ]
  },
  {
   "cell_type": "code",
   "execution_count": null,
   "metadata": {},
   "outputs": [],
   "source": [
    "# wc3 = WordCloud(background_color=\"white\", max_words=2000, width=800, height=400)\n",
    "# # generate word cloud\n",
    "# wc.generate(' '.join(df.loc[mask3]['text']))\n",
    "# plt.figure(figsize=(12, 6))\n",
    "# plt.imshow(wc3, interpolation='bilinear')\n",
    "# plt.axis(\"off\")\n",
    "# plt.show()"
   ]
  },
  {
   "cell_type": "markdown",
   "metadata": {},
   "source": [
    "# Sentiment Analysis "
   ]
  },
  {
   "cell_type": "code",
   "execution_count": null,
   "metadata": {},
   "outputs": [],
   "source": [
    "df_positive = df.loc[df.individual_meta_score > 70]\n",
    "df_negative = df.loc[df.individual_meta_score < 30]\n",
    "sample_size = 2000\n",
    "\n",
    "def sentiment_func(x):\n",
    "    sentiment = TextBlob(x['text'])\n",
    "    x['polarity'] = sentiment.polarity\n",
    "    x['subjectivity'] = sentiment.subjectivity\n",
    "    return x\n",
    "\n",
    "sample_1 = df_positive.sample(sample_size).apply(sentiment_func, axis=1)\n",
    "sample_2 = df_negative.sample(sample_size).apply(sentiment_func, axis=1)\n",
    "\n",
    "\n",
    "sample_1.plot.scatter('individual_meta_score', 'polarity')"
   ]
  },
  {
   "cell_type": "code",
   "execution_count": null,
   "metadata": {},
   "outputs": [],
   "source": [
    "sample_2.plot.scatter('individual_meta_score', 'polarity')"
   ]
  },
  {
   "cell_type": "code",
   "execution_count": null,
   "metadata": {},
   "outputs": [],
   "source": [
    "import plotly.figure_factory as ff\n",
    "\n",
    "fig = ff.create_distplot([sample_1.polarity,sample_2.polarity ], ['Metascore>70','Metascore<30'], bin_size=.15)\n",
    "fig.show()"
   ]
  },
  {
   "cell_type": "markdown",
   "metadata": {},
   "source": [
    "# Media "
   ]
  },
  {
   "cell_type": "code",
   "execution_count": null,
   "metadata": {},
   "outputs": [],
   "source": [
    "%matplotlib inline \n",
    "import pandas as pd\n",
    "import numpy as np\n",
    "from matplotlib import pyplot as plt\n",
    "plt.style.use('ggplot')"
   ]
  },
  {
   "cell_type": "code",
   "execution_count": null,
   "metadata": {
    "scrolled": true
   },
   "outputs": [],
   "source": [
    "df_graph_1 = df.groupby([df['review_date'].map(lambda x: x.year),'media']).agg({'individual_meta_score':['mean','count']})\n",
    "df_graph_1"
   ]
  },
  {
   "cell_type": "code",
   "execution_count": null,
   "metadata": {},
   "outputs": [],
   "source": [
    "years = df_graph_1.index.get_level_values(0).tolist()"
   ]
  },
  {
   "cell_type": "code",
   "execution_count": null,
   "metadata": {},
   "outputs": [],
   "source": [
    "year_list = df_date.index.year.unique().tolist()\n",
    "year_list.sort()\n",
    "year_list"
   ]
  },
  {
   "cell_type": "markdown",
   "metadata": {},
   "source": [
    "# Critic's Review Quantity"
   ]
  },
  {
   "cell_type": "code",
   "execution_count": null,
   "metadata": {},
   "outputs": [],
   "source": [
    "# !pip install plotly_express\n",
    "# !pip install --upgrade plotly\n",
    "import plotly\n",
    "plotly.offline.init_notebook_mode(connected=True)\n",
    "import plotly.graph_objects as go\n",
    "from plotly.graph_objs import Figure, Histogram, Layout\n",
    "import plotly.express as px"
   ]
  },
  {
   "cell_type": "code",
   "execution_count": null,
   "metadata": {},
   "outputs": [],
   "source": [
    "df_graph_3 = df.groupby(df['critic_name']).agg({'individual_meta_score':['count','mean']})"
   ]
  },
  {
   "cell_type": "code",
   "execution_count": null,
   "metadata": {},
   "outputs": [],
   "source": [
    "df_temp = df[['critic_name', 'individual_meta_score']]"
   ]
  },
  {
   "cell_type": "code",
   "execution_count": null,
   "metadata": {},
   "outputs": [],
   "source": [
    "res1 = df_temp.groupby('critic_name').agg(['count', 'mean'])"
   ]
  },
  {
   "cell_type": "code",
   "execution_count": null,
   "metadata": {},
   "outputs": [],
   "source": [
    "df_mean = pd.Series(res1.unstack()['individual_meta_score']['mean'], name = 'mean_score')"
   ]
  },
  {
   "cell_type": "code",
   "execution_count": null,
   "metadata": {},
   "outputs": [],
   "source": [
    "df_count = pd.Series(res1.unstack()['individual_meta_score']['count'], name = 'count')\n",
    "pd.concat([df_mean, df_count], axis=1)\n",
    "pd_combined.plot.scatter(x = 'count', y = 'mean_score', )"
   ]
  },
  {
   "cell_type": "code",
   "execution_count": null,
   "metadata": {},
   "outputs": [],
   "source": [
    "plt.figure(figsize=(16,8))\n",
    "plt.scatter(pd_combined['count'], pd_combined['mean_score'])\n",
    "plt.xscale('log')\n",
    "# plt.xlim(0, 500)\n",
    "# plt.ylim(-1, 1)"
   ]
  },
  {
   "cell_type": "markdown",
   "metadata": {},
   "source": [
    "# Review Date Analysis"
   ]
  },
  {
   "cell_type": "code",
   "execution_count": null,
   "metadata": {
    "scrolled": false
   },
   "outputs": [],
   "source": [
    "import plotly.express as px\n",
    "\n",
    "df_joker = df.loc[df.movie_title=='Joker',:].sort_values('review_date')\n",
    "df_joker.groupby(df['review_date'])\n",
    "df_joker['individual_meta_score'].mean()"
   ]
  },
  {
   "cell_type": "code",
   "execution_count": null,
   "metadata": {
    "scrolled": true
   },
   "outputs": [],
   "source": [
    "fig = px.scatter(df_joker, x=\"review_date\", y=\"individual_meta_score\",marginal_x=\"histogram\",marginal_y=\"histogram\",size='individual_meta_score')\n",
    " \n",
    "fig.update_layout(title = 'Joker')\n",
    "\n",
    "\n",
    "fig.show()"
   ]
  },
  {
   "cell_type": "code",
   "execution_count": null,
   "metadata": {},
   "outputs": [],
   "source": [
    "import random\n",
    "\n",
    "random_name = random.choice(df.movie_title.tolist())\n",
    "print(random_name)\n",
    "\n",
    "df.ramdom = df.loc[df.movie_title==random.choice(df.movie_title.tolist()),:]\n",
    "fig = px.scatter(df.ramdom, x=\"review_date\", y=\"individual_meta_score\",marginal_x=\"histogram\",marginal_y=\"histogram\",size='individual_meta_score')\n",
    " \n",
    "fig.update_layout(title = random_name)\n",
    "fig.show()"
   ]
  },
  {
   "cell_type": "code",
   "execution_count": null,
   "metadata": {},
   "outputs": [],
   "source": [
    "df_100 = df.loc[df.individual_meta_score <20,:]\n",
    "df_100 = df_100.replace('TBA', np.nan).dropna(axis=0, how='any')\n",
    "df_100['release_date'] = pd.to_datetime(df_100['release_date'])"
   ]
  },
  {
   "cell_type": "code",
   "execution_count": null,
   "metadata": {
    "scrolled": true
   },
   "outputs": [],
   "source": [
    "df_100['date'] = df_100['review_date'] < df_100['release_date']\n",
    "print(sum(df_100['date'])/df_100.shape[0])"
   ]
  }
 ],
 "metadata": {
  "kernelspec": {
   "display_name": "Python 3",
   "language": "python",
   "name": "python3"
  },
  "language_info": {
   "codemirror_mode": {
    "name": "ipython",
    "version": 3
   },
   "file_extension": ".py",
   "mimetype": "text/x-python",
   "name": "python",
   "nbconvert_exporter": "python",
   "pygments_lexer": "ipython3",
   "version": "3.7.3"
  }
 },
 "nbformat": 4,
 "nbformat_minor": 2
}
